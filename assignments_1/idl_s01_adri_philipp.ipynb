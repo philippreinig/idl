{
 "cells": [
  {
   "cell_type": "markdown",
   "id": "8f927668",
   "metadata": {},
   "source": [
    "# Assignment 1\n",
    "## Collaborative Work from Adrian Bremer & Philipp Reinig"
   ]
  },
  {
   "cell_type": "code",
   "execution_count": 1,
   "id": "fa51e403",
   "metadata": {},
   "outputs": [
    {
     "name": "stderr",
     "output_type": "stream",
     "text": [
      "2023-10-11 08:46:09.225878: I tensorflow/tsl/cuda/cudart_stub.cc:28] Could not find cuda drivers on your machine, GPU will not be used.\n",
      "2023-10-11 08:46:09.343461: E tensorflow/compiler/xla/stream_executor/cuda/cuda_dnn.cc:9342] Unable to register cuDNN factory: Attempting to register factory for plugin cuDNN when one has already been registered\n",
      "2023-10-11 08:46:09.343508: E tensorflow/compiler/xla/stream_executor/cuda/cuda_fft.cc:609] Unable to register cuFFT factory: Attempting to register factory for plugin cuFFT when one has already been registered\n",
      "2023-10-11 08:46:09.343891: E tensorflow/compiler/xla/stream_executor/cuda/cuda_blas.cc:1518] Unable to register cuBLAS factory: Attempting to register factory for plugin cuBLAS when one has already been registered\n",
      "2023-10-11 08:46:09.397242: I tensorflow/tsl/cuda/cudart_stub.cc:28] Could not find cuda drivers on your machine, GPU will not be used.\n",
      "2023-10-11 08:46:09.398329: I tensorflow/core/platform/cpu_feature_guard.cc:182] This TensorFlow binary is optimized to use available CPU instructions in performance-critical operations.\n",
      "To enable the following instructions: AVX2 FMA, in other operations, rebuild TensorFlow with the appropriate compiler flags.\n",
      "2023-10-11 08:46:10.514554: W tensorflow/compiler/tf2tensorrt/utils/py_utils.cc:38] TF-TRT Warning: Could not find TensorRT\n"
     ]
    },
    {
     "data": {
      "text/plain": [
       "'2.14.0'"
      ]
     },
     "execution_count": 1,
     "metadata": {},
     "output_type": "execute_result"
    }
   ],
   "source": [
    "import tensorflow as tf\n",
    "\n",
    "tf.__version__"
   ]
  },
  {
   "cell_type": "markdown",
   "id": "a1c77b0a",
   "metadata": {},
   "source": [
    "# MNIST-Tutorial "
   ]
  },
  {
   "cell_type": "code",
   "execution_count": 2,
   "id": "6bbb08a6",
   "metadata": {},
   "outputs": [],
   "source": [
    "import tensorflow as tf\n",
    "import numpy as np\n",
    "import matplotlib.pyplot as plt\n",
    "from datasets import MNISTDataset"
   ]
  },
  {
   "cell_type": "markdown",
   "id": "fc6060ed",
   "metadata": {},
   "source": [
    "## Viewing the first date"
   ]
  },
  {
   "cell_type": "code",
   "execution_count": 3,
   "id": "3f9e5ebe",
   "metadata": {},
   "outputs": [
    {
     "data": {
      "image/png": "[encoded data removed]",
      "text/plain": [
       "<Figure size 640x480 with 1 Axes>"
      ]
     },
     "metadata": {},
     "output_type": "display_data"
    }
   ],
   "source": [
    "mnist = tf.keras.datasets.mnist\n",
    "(train_images, train_labels), (test_images, test_labels) = mnist.load_data()\n",
    "\n",
    "plt.imshow(train_images[0], cmap=\"Greys_r\")\n",
    "\n",
    "data = MNISTDataset(train_images.reshape([-1, 784]), train_labels, \n",
    "                    test_images.reshape([-1, 784]), test_labels,\n",
    "                    batch_size=128)"
   ]
  },
  {
   "cell_type": "markdown",
   "id": "6e9d01b9",
   "metadata": {},
   "source": [
    "## Setting up and training the model"
   ]
  },
  {
   "cell_type": "code",
   "execution_count": 4,
   "id": "465bd9c0",
   "metadata": {},
   "outputs": [
    {
     "name": "stdout",
     "output_type": "stream",
     "text": [
      "Loss: 2.3025851249694824 Accuracy: 0.0546875\n",
      "Loss: 0.6568050384521484 Accuracy: 0.828125\n",
      "Loss: 0.5055078268051147 Accuracy: 0.8515625\n",
      "Loss: 0.41407546401023865 Accuracy: 0.8828125\n",
      "Loss: 0.3186103105545044 Accuracy: 0.953125\n",
      "Loss: 0.33990585803985596 Accuracy: 0.90625\n",
      "Loss: 0.41186651587486267 Accuracy: 0.875\n",
      "Loss: 0.287309855222702 Accuracy: 0.9375\n",
      "Loss: 0.36369800567626953 Accuracy: 0.8828125\n",
      "Loss: 0.3414457440376282 Accuracy: 0.8828125\n",
      "Done!\n"
     ]
    }
   ],
   "source": [
    "train_steps = 1000\n",
    "learning_rate = 0.1\n",
    "\n",
    "W = tf.Variable(np.zeros([784, 10]).astype(np.float32))\n",
    "b = tf.Variable(np.zeros(10, dtype=np.float32))\n",
    "\n",
    "\n",
    "for step in range(train_steps):\n",
    "    img_batch, lbl_batch = data.next_batch()\n",
    "    with tf.GradientTape() as tape:\n",
    "        logits = tf.matmul(img_batch, W) + b\n",
    "        xent = tf.reduce_mean(tf.nn.sparse_softmax_cross_entropy_with_logits(\n",
    "            logits=logits, labels=lbl_batch))\n",
    "        \n",
    "    grads = tape.gradient(xent, [W, b])\n",
    "    W.assign_sub(learning_rate * grads[0])\n",
    "    b.assign_sub(learning_rate * grads[1])\n",
    "    \n",
    "    if not step % 100:\n",
    "        preds = tf.argmax(logits, axis=1, output_type=tf.int32)\n",
    "        acc = tf.reduce_mean(tf.cast(tf.equal(preds, lbl_batch),\n",
    "                             tf.float32))\n",
    "        print(\"Loss: {} Accuracy: {}\".format(xent, acc))\n",
    "\n",
    "print(\"Done!\")"
   ]
  },
  {
   "cell_type": "markdown",
   "id": "4244f188",
   "metadata": {},
   "source": [
    "## Testing"
   ]
  },
  {
   "cell_type": "code",
   "execution_count": 5,
   "id": "57e63d2e",
   "metadata": {},
   "outputs": [
    {
     "name": "stdout",
     "output_type": "stream",
     "text": [
      "tf.Tensor(0.909, shape=(), dtype=float32)\n"
     ]
    }
   ],
   "source": [
    "test_preds = tf.argmax(tf.matmul(data.test_data, W) + b, axis=1,\n",
    "                       output_type=tf.int32)\n",
    "acc = tf.reduce_mean(tf.cast(tf.equal(test_preds, data.test_labels),\n",
    "                             tf.float32))\n",
    "print(acc)"
   ]
  },
  {
   "cell_type": "markdown",
   "id": "4f895056",
   "metadata": {},
   "source": [
    "# Building a Deep Model"
   ]
  },
  {
   "cell_type": "markdown",
   "id": "16eb4d1c",
   "metadata": {},
   "source": [
    "## Hidden Layer\n",
    "Using a variable size \"N\" for the hidden layer.\n",
    "The previous layer with 10 Outputs represents the Output-Layer. \n",
    "Therefore, the hidden weights get a shape of Nx784 and the Output-Weights will get a shape of 10xN."
   ]
  },
  {
   "cell_type": "code",
   "execution_count": 12,
   "id": "9aab77ea",
   "metadata": {},
   "outputs": [
    {
     "name": "stdout",
     "output_type": "stream",
     "text": [
      "Done\n"
     ]
    }
   ],
   "source": [
    "N = 20\n",
    "\n",
    "def init(hidden_size):\n",
    "    # initialising weights with small random values\n",
    "    # and biases with small positive values (alternatively with zeros)\n",
    "    W_ih = tf.Variable(np.random.uniform(low=-0.1, high=0.1, size=(784, hidden_size)).astype(np.float32))\n",
    "    b_h = tf.Variable(np.random.uniform(low=0.0, high=0.1, size=hidden_size).astype(np.float32))\n",
    "    W_ho = tf.Variable(np.random.uniform(low=-0.1, high=0.1, size=(hidden_size, 10)).astype(np.float32))\n",
    "    b_o = tf.Variable(np.random.uniform(low=0.0, high=0.1, size=10).astype(np.float32))\n",
    "    \n",
    "    return (W_ih, b_h, W_ho, b_o)\n",
    "\n",
    "\n",
    "def train(net):\n",
    "    \"\"\"returns the loss and accuracy after 1000 iterations\"\"\"\n",
    "\n",
    "    W_ih, b_h, W_ho, b_o = net\n",
    "    \n",
    "\n",
    "    for step in range(train_steps):\n",
    "        img_batch, lbl_batch = data.next_batch()\n",
    "        with tf.GradientTape() as tape:\n",
    "            tape.watch([W_ih, b_h, W_ho, b_o])\n",
    "\n",
    "            hidden_logits = tf.matmul(img_batch, W_ih) + b_h\n",
    "            # DON'T USE SOFTMAX HERE - IT IS AWFUL!\n",
    "            hidden_softmax = tf.nn.relu(hidden_logits)\n",
    "\n",
    "            logits = tf.matmul(hidden_softmax, W_ho) + b_o\n",
    "            xent = tf.reduce_mean(tf.nn.sparse_softmax_cross_entropy_with_logits(\n",
    "                logits=logits, labels=lbl_batch))\n",
    "\n",
    "        grads = tape.gradient(xent, [W_ih, b_h, W_ho, b_o])\n",
    "        W_ih.assign_sub(learning_rate * grads[0])\n",
    "        b_h.assign_sub(learning_rate * grads[1])\n",
    "        W_ho.assign_sub(learning_rate * grads[2])\n",
    "        b_o.assign_sub(learning_rate * grads[3])\n",
    "\n",
    "        if not step % 100:\n",
    "            preds = tf.argmax(logits, axis=1, output_type=tf.int32)\n",
    "            acc = tf.reduce_mean(tf.cast(tf.equal(preds, lbl_batch),\n",
    "                                 tf.float32))\n",
    "            #print(\"Loss: {} Accuracy: {}\".format(xent, acc))\n",
    "\n",
    "    #print(\"Done!\")\n",
    "    \n",
    "    #return (xent,acc)\n",
    "    \n",
    "train(init(N))\n",
    "print(\"Done\")"
   ]
  },
  {
   "cell_type": "markdown",
   "id": "c366c018",
   "metadata": {},
   "source": [
    "## Find best size N for hidden layer "
   ]
  },
  {
   "cell_type": "code",
   "execution_count": 14,
   "id": "cf077418",
   "metadata": {},
   "outputs": [
    {
     "name": "stdout",
     "output_type": "stream",
     "text": [
      "N = 10, acc=0.9100000262260437\n",
      "N = 11, acc=0.911899983882904\n",
      "N = 12, acc=0.9115999937057495\n",
      "N = 13, acc=0.9187999963760376\n",
      "N = 14, acc=0.9138000011444092\n",
      "N = 15, acc=0.9229999780654907\n",
      "N = 16, acc=0.9196000099182129\n",
      "N = 17, acc=0.9156000018119812\n",
      "N = 18, acc=0.9244999885559082\n",
      "N = 19, acc=0.9182000160217285\n",
      "N = 20, acc=0.9204000234603882\n",
      "N = 21, acc=0.9197999835014343\n",
      "N = 22, acc=0.9199000000953674\n",
      "N = 23, acc=0.9205999970436096\n",
      "N = 24, acc=0.9226999878883362\n",
      "N = 25, acc=0.9210000038146973\n",
      "N = 26, acc=0.9264000058174133\n",
      "N = 27, acc=0.9217000007629395\n",
      "N = 28, acc=0.9258999824523926\n",
      "N = 29, acc=0.9218999743461609\n",
      "N = 30, acc=0.9200999736785889\n",
      "N = 31, acc=0.9226999878883362\n",
      "N = 32, acc=0.921999990940094\n",
      "N = 33, acc=0.9208999872207642\n",
      "N = 34, acc=0.9221000075340271\n",
      "N = 35, acc=0.9211999773979187\n",
      "N = 36, acc=0.9251999855041504\n",
      "N = 37, acc=0.9253000020980835\n",
      "N = 38, acc=0.9248999953269958\n",
      "N = 39, acc=0.9240999817848206\n",
      "N = 40, acc=0.9222999811172485\n",
      "N = 41, acc=0.9257000088691711\n",
      "N = 42, acc=0.9236000180244446\n",
      "N = 43, acc=0.925599992275238\n",
      "N = 44, acc=0.9302999973297119\n",
      "N = 45, acc=0.9273999929428101\n",
      "N = 46, acc=0.9253000020980835\n",
      "N = 47, acc=0.9261999726295471\n",
      "N = 48, acc=0.9258999824523926\n",
      "N = 49, acc=0.9283999800682068\n",
      "N = 50, acc=0.9298999905586243\n",
      "N = 51, acc=0.9271000027656555\n",
      "N = 52, acc=0.9247999787330627\n",
      "N = 53, acc=0.9289000034332275\n",
      "N = 54, acc=0.9276999831199646\n",
      "N = 55, acc=0.927299976348877\n",
      "N = 56, acc=0.9257000088691711\n",
      "N = 57, acc=0.9243000149726868\n",
      "N = 58, acc=0.9259999990463257\n",
      "N = 59, acc=0.9323999881744385\n",
      "N = 60, acc=0.9275000095367432\n",
      "N = 61, acc=0.9293000102043152\n",
      "N = 62, acc=0.9258999824523926\n",
      "N = 63, acc=0.9297999739646912\n",
      "N = 64, acc=0.9291999936103821\n",
      "N = 65, acc=0.9289000034332275\n",
      "N = 66, acc=0.9277999997138977\n",
      "N = 67, acc=0.9273999929428101\n",
      "N = 68, acc=0.92330002784729\n",
      "N = 69, acc=0.9253000020980835\n",
      "N = 70, acc=0.9261999726295471\n",
      "N = 71, acc=0.928600013256073\n",
      "N = 72, acc=0.9258000254631042\n",
      "N = 73, acc=0.9294000267982483\n",
      "N = 74, acc=0.9333000183105469\n",
      "N = 75, acc=0.9243000149726868\n",
      "N = 76, acc=0.9243999719619751\n",
      "N = 77, acc=0.9312999844551086\n",
      "N = 78, acc=0.9297000169754028\n",
      "N = 79, acc=0.9319999814033508\n",
      "N = 80, acc=0.928600013256073\n",
      "N = 81, acc=0.9284999966621399\n",
      "N = 82, acc=0.9307000041007996\n",
      "N = 83, acc=0.9291999936103821\n",
      "N = 84, acc=0.9298999905586243\n",
      "N = 85, acc=0.9315999746322632\n",
      "N = 86, acc=0.9300000071525574\n",
      "N = 87, acc=0.925000011920929\n",
      "N = 88, acc=0.9289000034332275\n",
      "N = 89, acc=0.9272000193595886\n",
      "N = 90, acc=0.9283999800682068\n",
      "N = 91, acc=0.9279999732971191\n",
      "N = 92, acc=0.9302999973297119\n",
      "N = 93, acc=0.9322999715805054\n",
      "N = 94, acc=0.9302999973297119\n",
      "N = 95, acc=0.9323999881744385\n",
      "N = 96, acc=0.9308000206947327\n",
      "N = 97, acc=0.9294999837875366\n",
      "N = 98, acc=0.9296000003814697\n",
      "N = 99, acc=0.9273999929428101\n"
     ]
    },
    {
     "data": {
      "image/png": "[encoded data removed]",
      "text/plain": [
       "<Figure size 640x480 with 1 Axes>"
      ]
     },
     "metadata": {},
     "output_type": "display_data"
    }
   ],
   "source": [
    "#losses = []\n",
    "accs = []\n",
    "sizes = np.arange(10,100, dtype=np.int32)\n",
    "\n",
    "for n in sizes:\n",
    "    W_ih, b_h, W_ho, b_o = init(n)\n",
    "    train((W_ih, b_h, W_ho, b_o))\n",
    "    \n",
    "    # Testing\n",
    "    hidden_logits = tf.matmul(data.test_data, W_ih) + b_h\n",
    "    hidden_relu = tf.nn.relu(hidden_logits)\n",
    "    logits = tf.matmul(hidden_relu, W_ho) + b_o\n",
    "    test_preds = tf.argmax(tf.nn.softmax(logits), axis=1, output_type=tf.int32)\n",
    "    \n",
    "    acc = tf.reduce_mean(tf.cast(tf.equal(test_preds, data.test_labels),\n",
    "                                 tf.float32))\n",
    "    \n",
    "    #losses.append(loss)\n",
    "    accs.append(acc)\n",
    "    \n",
    "    print(\"N = {}, acc={}\".format(n, acc))\n",
    "    \n",
    "\n",
    "plt.plot(sizes, accs, label='accuracy')\n",
    "plt.legend()\n",
    "\n",
    "plt.savefig('plot.svg')\n",
    "plt.show()"
   ]
  },
  {
   "cell_type": "markdown",
   "id": "18ff8220",
   "metadata": {},
   "source": [
    "## Questions\n",
    "\n",
    "### Why don't initialise with 0?\n",
    "Because then the hidden layer is producing - no matter the input - the same output in the first iteration. \n",
    "And even worse: During backpropagation no weights get changed, because every needed change is multiplied by zero (in the hidden layer).\n",
    "\n",
    "## Experiments\n",
    "\n",
    "### Different activation functions\n",
    "First we used softmax in the hidden layer. This produced a maximum accuracy of 0.5 and a minimum loss of more than 1. So we switched to ReLU for the hidden layer and we got accuracy over 90% and a loss of about 0.1\n",
    "\n",
    "### Different hidden layer sizes\n",
    "<img src=\"plt_acc_same-test-batch.svg\">\n",
    "\n",
    "Like one can see in the diagram the more nodes we have inside the hidden layer, the more accuracy can be reached after a fixed amount of iterations (1000). There are some varaitions, but we did only 1 run. But the tendence is clear.\n",
    "\n",
    "But we have to consider that after about 40 nodes in the hidden layer, the improvements are negetibly small. Therefore, one shouldn't choose a much bigger hidden layer because we don't gain that much more performance for the huge amounts of extra computation for bigger layers.\n",
    "\n",
    "### Different weight initializations\n",
    "**_TODO_**\n",
    "\n",
    "\n",
    "## Tensorflow Interface\n",
    "\n",
    "### Suggestions for High-level interfaces\n",
    "- initialization inside a constructor where you specify the layer sizes - probably with options to tell how to initialize \n",
    "- feed forward in one method (matrix multiplication an addition with straight forward pattern) -> for really deep networks really tidious\n",
    "- use this feed forward method inside a train method -> does back propagation for the user (again: straight forward pattern)\n",
    "\n",
    "### Wishes for currently missing features\n",
    "- **_TODO_**\n",
    "\n",
    "### redundant information\n",
    "You get forced a lot to give redundant information. E.G. Specify the sizes of the matrices, but they depend on the layer sizes, specify the feed forward calculations for every single layer, even it is a mechanical task, tell the GradientTape which variables to differentiate by and subtract the changes from every single weight matrix and bias vector. \n",
    "This can easily be packaged inside the specified methods.\n"
   ]
  },
  {
   "cell_type": "code",
   "execution_count": null,
   "id": "b5046c4f",
   "metadata": {},
   "outputs": [],
   "source": []
  }
 ],
 "metadata": {
  "kernelspec": {
   "display_name": "Python 3 (ipykernel)",
   "language": "python",
   "name": "python3"
  },
  "language_info": {
   "codemirror_mode": {
    "name": "ipython",
    "version": 3
   },
   "file_extension": ".py",
   "mimetype": "text/x-python",
   "name": "python",
   "nbconvert_exporter": "python",
   "pygments_lexer": "ipython3",
   "version": "3.10.12"
  }
 },
 "nbformat": 4,
 "nbformat_minor": 5
}
