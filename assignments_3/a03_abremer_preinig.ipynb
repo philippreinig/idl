{
 "cells": [
  {
   "cell_type": "markdown",
   "id": "35c10277",
   "metadata": {},
   "source": [
    "# [Assignment 3](https://ovgu-ailab.github.io/idl2023/assignment3.html)\n",
    "\n",
    "**_Colaborative Work from Adrian Bremer and Philipp Reinig_**\n",
    "\n",
    "## Setup"
   ]
  },
  {
   "cell_type": "code",
   "execution_count": 15,
   "id": "a0df35a9",
   "metadata": {},
   "outputs": [],
   "source": [
    "import tensorflow as tf\n",
    "import keras\n",
    "from keras import layers\n",
    "import numpy as np\n"
   ]
  },
  {
   "cell_type": "markdown",
   "id": "d886ba08",
   "metadata": {},
   "source": [
    "## CNN for MNIST\n",
    "### Prepare data"
   ]
  },
  {
   "cell_type": "code",
   "execution_count": 16,
   "id": "02274525",
   "metadata": {},
   "outputs": [],
   "source": [
    "(train_imgs, train_lbls), (test_imgs, test_lbls) = keras.datasets.mnist.load_data()\n",
    "\n",
    "train_data = tf.data.Dataset.from_tensor_slices(\n",
    "    (train_imgs.reshape((-1,28,28,1)).astype(np.float32) / 255, train_lbls.astype(np.int32))).shuffle(buffer_size=60000).batch(128).repeat()\n",
    "\n",
    "test_data = tf.data.Dataset.from_tensor_slices(\n",
    "    (test_imgs.reshape((-1,28,28,1)).astype(np.float32) / 255, test_lbls.astype(np.int32))).batch(128)\n"
   ]
  },
  {
   "cell_type": "markdown",
   "id": "657b1fc3",
   "metadata": {},
   "source": [
    "### Build CNN model with Keras"
   ]
  },
  {
   "cell_type": "code",
   "execution_count": 31,
   "id": "ee2a62c4",
   "metadata": {},
   "outputs": [],
   "source": [
    "#keras.Input\n",
    "#layers.Conv2D\n",
    "#layers.GlobalMaxPool[ing]2D\n",
    "#layers.MaxPool[ing]2D\n",
    "#layers.Flatten\n",
    "#layers.Dense\n",
    "#keras.Model\n",
    "\n",
    "model = keras.Sequential([\n",
    "    layers.Conv2D(filters=16, kernel_size=5, padding=\"same\", activation=\"relu\"),\n",
    "    layers.MaxPooling2D(),\n",
    "    layers.Conv2D(filters=32, kernel_size=5, padding=\"valid\", activation=\"relu\"),\n",
    "    layers.MaxPooling2D(),\n",
    "    layers.Flatten(),\n",
    "    layers.Dense(units=128, activation=\"relu\"),\n",
    "    layers.Dense(units=10)\n",
    "], name=\"simple_conv\")\n",
    "\n",
    "model.compile(optimizer='adam',\n",
    "              loss=tf.keras.losses.SparseCategoricalCrossentropy(from_logits=True),\n",
    "              metrics=['accuracy'])\n"
   ]
  },
  {
   "cell_type": "code",
   "execution_count": 27,
   "id": "a455e99e",
   "metadata": {},
   "outputs": [
    {
     "name": "stdout",
     "output_type": "stream",
     "text": [
      "Epoch 1/10\n",
      "50/50 [==============================] - 2s 29ms/step - loss: 0.9006 - accuracy: 0.7511\n",
      "Epoch 2/10\n",
      "50/50 [==============================] - 1s 22ms/step - loss: 0.2849 - accuracy: 0.9181\n",
      "Epoch 3/10\n",
      "50/50 [==============================] - 1s 20ms/step - loss: 0.1960 - accuracy: 0.9423\n",
      "Epoch 4/10\n",
      "50/50 [==============================] - 1s 21ms/step - loss: 0.1615 - accuracy: 0.9534\n",
      "Epoch 5/10\n",
      "50/50 [==============================] - 1s 21ms/step - loss: 0.1194 - accuracy: 0.9623\n",
      "Epoch 6/10\n",
      "50/50 [==============================] - 1s 21ms/step - loss: 0.1137 - accuracy: 0.9630\n",
      "Epoch 7/10\n",
      "50/50 [==============================] - 1s 21ms/step - loss: 0.0856 - accuracy: 0.9745\n",
      "Epoch 8/10\n",
      "50/50 [==============================] - 1s 21ms/step - loss: 0.0864 - accuracy: 0.9750\n",
      "Epoch 9/10\n",
      "50/50 [==============================] - 1s 21ms/step - loss: 0.0754 - accuracy: 0.9803\n",
      "Epoch 10/10\n",
      "50/50 [==============================] - 1s 22ms/step - loss: 0.0730 - accuracy: 0.9785\n"
     ]
    },
    {
     "data": {
      "text/plain": [
       "<keras.src.callbacks.History at 0x7f8024902f80>"
      ]
     },
     "execution_count": 27,
     "metadata": {},
     "output_type": "execute_result"
    }
   ],
   "source": [
    "model.fit(x=train_data, epochs=10, steps_per_epoch=50)"
   ]
  },
  {
   "cell_type": "code",
   "execution_count": 28,
   "id": "e9b166ec",
   "metadata": {},
   "outputs": [
    {
     "name": "stdout",
     "output_type": "stream",
     "text": [
      "Model: \"simple_conv\"\n",
      "_________________________________________________________________\n",
      " Layer (type)                Output Shape              Param #   \n",
      "=================================================================\n",
      " conv2d_12 (Conv2D)          (None, 28, 28, 16)        416       \n",
      "                                                                 \n",
      " max_pooling2d_12 (MaxPooli  (None, 14, 14, 16)        0         \n",
      " ng2D)                                                           \n",
      "                                                                 \n",
      " conv2d_13 (Conv2D)          (None, 10, 10, 32)        12832     \n",
      "                                                                 \n",
      " max_pooling2d_13 (MaxPooli  (None, 5, 5, 32)          0         \n",
      " ng2D)                                                           \n",
      "                                                                 \n",
      " flatten_6 (Flatten)         (None, 800)               0         \n",
      "                                                                 \n",
      " dense_12 (Dense)            (None, 128)               102528    \n",
      "                                                                 \n",
      " dense_13 (Dense)            (None, 10)                1290      \n",
      "                                                                 \n",
      "=================================================================\n",
      "Total params: 117066 (457.29 KB)\n",
      "Trainable params: 117066 (457.29 KB)\n",
      "Non-trainable params: 0 (0.00 Byte)\n",
      "_________________________________________________________________\n"
     ]
    }
   ],
   "source": [
    "model.summary()"
   ]
  },
  {
   "cell_type": "code",
   "execution_count": 29,
   "id": "571eddb4",
   "metadata": {},
   "outputs": [
    {
     "name": "stdout",
     "output_type": "stream",
     "text": [
      "79/79 [==============================] - 1s 7ms/step - loss: 0.0519 - accuracy: 0.9836\n"
     ]
    },
    {
     "data": {
      "text/plain": [
       "[0.051912419497966766, 0.9836000204086304]"
      ]
     },
     "execution_count": 29,
     "metadata": {},
     "output_type": "execute_result"
    }
   ],
   "source": [
    "model.evaluate(test_data)"
   ]
  },
  {
   "cell_type": "code",
   "execution_count": 30,
   "id": "2fb3bc8c",
   "metadata": {},
   "outputs": [
    {
     "data": {
      "text/plain": [
       "['loss', 'accuracy']"
      ]
     },
     "execution_count": 30,
     "metadata": {},
     "output_type": "execute_result"
    }
   ],
   "source": [
    "model.metrics_names"
   ]
  },
  {
   "cell_type": "markdown",
   "id": "64309ada",
   "metadata": {},
   "source": [
    "## CNN on fashion mnist\n",
    "\n",
    "### Reusing old model / only changing the datasets"
   ]
  },
  {
   "cell_type": "code",
   "execution_count": 32,
   "id": "9d4e2090",
   "metadata": {},
   "outputs": [
    {
     "name": "stdout",
     "output_type": "stream",
     "text": [
      "Downloading data from https://storage.googleapis.com/tensorflow/tf-keras-datasets/train-labels-idx1-ubyte.gz\n",
      "29515/29515 [==============================] - 0s 1us/step\n",
      "Downloading data from https://storage.googleapis.com/tensorflow/tf-keras-datasets/train-images-idx3-ubyte.gz\n",
      "26421880/26421880 [==============================] - 20s 1us/step\n",
      "Downloading data from https://storage.googleapis.com/tensorflow/tf-keras-datasets/t10k-labels-idx1-ubyte.gz\n",
      "5148/5148 [==============================] - 0s 0us/step\n",
      "Downloading data from https://storage.googleapis.com/tensorflow/tf-keras-datasets/t10k-images-idx3-ubyte.gz\n",
      "4422102/4422102 [==============================] - 5s 1us/step\n"
     ]
    }
   ],
   "source": [
    "(train_imgs, train_lbls), (test_imgs, test_lbls) = keras.datasets.fashion_mnist.load_data()\n",
    "\n",
    "train_data = tf.data.Dataset.from_tensor_slices(\n",
    "    (train_imgs.reshape((-1,28,28,1)).astype(np.float32) / 255, train_lbls.astype(np.int32))).shuffle(buffer_size=60000).batch(128).repeat()\n",
    "\n",
    "test_data = tf.data.Dataset.from_tensor_slices(\n",
    "    (test_imgs.reshape((-1,28,28,1)).astype(np.float32) / 255, test_lbls.astype(np.int32))).batch(128)\n"
   ]
  },
  {
   "cell_type": "code",
   "execution_count": 33,
   "id": "9bde740c",
   "metadata": {},
   "outputs": [
    {
     "name": "stdout",
     "output_type": "stream",
     "text": [
      "Epoch 1/10\n",
      "50/50 [==============================] - 2s 21ms/step - loss: 1.1508 - accuracy: 0.5841\n",
      "Epoch 2/10\n",
      "50/50 [==============================] - 1s 21ms/step - loss: 0.7096 - accuracy: 0.7347\n",
      "Epoch 3/10\n",
      "50/50 [==============================] - 1s 21ms/step - loss: 0.6171 - accuracy: 0.7750\n",
      "Epoch 4/10\n",
      "50/50 [==============================] - 1s 21ms/step - loss: 0.5352 - accuracy: 0.8069\n",
      "Epoch 5/10\n",
      "50/50 [==============================] - 1s 22ms/step - loss: 0.4949 - accuracy: 0.8211\n",
      "Epoch 6/10\n",
      "50/50 [==============================] - 1s 22ms/step - loss: 0.4639 - accuracy: 0.8328\n",
      "Epoch 7/10\n",
      "50/50 [==============================] - 1s 22ms/step - loss: 0.4514 - accuracy: 0.8422\n",
      "Epoch 8/10\n",
      "50/50 [==============================] - 1s 21ms/step - loss: 0.4552 - accuracy: 0.8308\n",
      "Epoch 9/10\n",
      "50/50 [==============================] - 1s 21ms/step - loss: 0.4191 - accuracy: 0.8500\n",
      "Epoch 10/10\n",
      "50/50 [==============================] - 1s 22ms/step - loss: 0.4133 - accuracy: 0.8527\n"
     ]
    },
    {
     "data": {
      "text/plain": [
       "<keras.src.callbacks.History at 0x7f80241dbac0>"
      ]
     },
     "execution_count": 33,
     "metadata": {},
     "output_type": "execute_result"
    }
   ],
   "source": [
    "# run the cell where the previous model is defined and compiled\n",
    "# then run this cell to train on fashion mnist\n",
    "model.fit(x=train_data, epochs=10, steps_per_epoch=50)"
   ]
  },
  {
   "cell_type": "code",
   "execution_count": 34,
   "id": "56b703a3",
   "metadata": {},
   "outputs": [
    {
     "name": "stdout",
     "output_type": "stream",
     "text": [
      "79/79 [==============================] - 1s 8ms/step - loss: 0.4295 - accuracy: 0.8469\n"
     ]
    },
    {
     "data": {
      "text/plain": [
       "[0.42950576543807983, 0.8468999862670898]"
      ]
     },
     "execution_count": 34,
     "metadata": {},
     "output_type": "execute_result"
    }
   ],
   "source": [
    "model.evaluate(test_data)"
   ]
  },
  {
   "cell_type": "markdown",
   "id": "67b9d323",
   "metadata": {},
   "source": [
    "**Conclusions**:\n",
    "The same model with only 2 convolutional layers and one dense layer performs quite well on fashion mnist. It reaches an accuracy of around 85%."
   ]
  },
  {
   "cell_type": "code",
   "execution_count": null,
   "id": "b3add3f7",
   "metadata": {},
   "outputs": [],
   "source": []
  }
 ],
 "metadata": {
  "kernelspec": {
   "display_name": "Python 3 (ipykernel)",
   "language": "python",
   "name": "python3"
  },
  "language_info": {
   "codemirror_mode": {
    "name": "ipython",
    "version": 3
   },
   "file_extension": ".py",
   "mimetype": "text/x-python",
   "name": "python",
   "nbconvert_exporter": "python",
   "pygments_lexer": "ipython3",
   "version": "3.10.12"
  }
 },
 "nbformat": 4,
 "nbformat_minor": 5
}
