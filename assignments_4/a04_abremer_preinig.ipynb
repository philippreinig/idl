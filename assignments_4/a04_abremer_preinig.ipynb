{
 "cells": [
  {
   "cell_type": "markdown",
   "id": "c4533006",
   "metadata": {},
   "source": [
    "# [Assignment 4](https://ovgu-ailab.github.io/idl2023/assignment4.html)\n",
    "\n",
    "collaborative work from Adrian Bremer & Philipp Reinig\n",
    "\n",
    "## Setup\n",
    "\n"
   ]
  },
  {
   "cell_type": "code",
   "execution_count": 7,
   "id": "2d433e99",
   "metadata": {},
   "outputs": [],
   "source": [
    "import tensorflow as tf\n",
    "import numpy as np\n",
    "from datetime import datetime"
   ]
  },
  {
   "cell_type": "markdown",
   "id": "47bb25d5",
   "metadata": {},
   "source": [
    "## Graph based execution\n",
    "\n",
    "Trying out tf.function on MLP from assignment 2"
   ]
  },
  {
   "cell_type": "code",
   "execution_count": 8,
   "id": "d652c20d",
   "metadata": {},
   "outputs": [],
   "source": [
    "class MLP:\n",
    "    \n",
    "    def __init__(self, layer_sizes, init_val):\n",
    "        if len(layer_sizes) <= 1:\n",
    "            raise AssertionError(\"There has to be at least 2 layers. 'layer_sizes' was {}\".format(layer_sizes))\n",
    "        \n",
    "        self.weights = [tf.Variable(np.random.uniform(low=-init_val, high=init_val, size=(layer_sizes[i], layer_sizes[i+1])).astype(np.float32)) for i in range(len(layer_sizes)-1)]\n",
    "        self.biases = [tf.Variable(np.zeros(layer_sizes[i]).astype(np.float32)) for i in range(1,len(layer_sizes))]\n",
    "    \n",
    "    def model(self, input_batch):\n",
    "        \"\"\"returns the logits for a given input batch\"\"\"\n",
    "        \n",
    "        n = len(self.biases)\n",
    "        if n == 1:\n",
    "            return tf.matmul(input_batch, self.weights[0]) + self.biases[0]\n",
    "        \n",
    "        next_input = input_batch\n",
    "        for i in range(n-1):\n",
    "            next_input = tf.nn.leaky_relu(tf.matmul(next_input, self.weights[i]) + self.biases[i])\n",
    "        \n",
    "        return tf.matmul(next_input, self.weights[n-1]) + self.biases[n-1]\n",
    "    \n",
    "    def train(self, imgs, lbls, learning_rate):\n",
    "        \"\"\"returns the cross entropy error\"\"\"\n",
    "        n = len(self.biases)\n",
    "      \n",
    "        with tf.GradientTape() as tape:\n",
    "            logits = self.model(imgs)\n",
    "            xent = tf.reduce_mean(tf.nn.sparse_softmax_cross_entropy_with_logits(\n",
    "                logits=logits, labels=lbls))\n",
    "        \n",
    "        grads = tape.gradient(xent, self.weights + self.biases)\n",
    "        for i in range(n):\n",
    "            self.weights[i].assign_sub(learning_rate * grads[i])\n",
    "            self.biases[i].assign_sub(learning_rate * grads[n+i])\n",
    "        \n",
    "        return xent"
   ]
  },
  {
   "cell_type": "code",
   "execution_count": 9,
   "id": "66b1ae47",
   "metadata": {},
   "outputs": [],
   "source": [
    "class graph_MLP:\n",
    "    \n",
    "    def __init__(self, layer_sizes, init_val):\n",
    "        if len(layer_sizes) <= 1:\n",
    "            raise AssertionError(\"There has to be at least 2 layers. 'layer_sizes' was {}\".format(layer_sizes))\n",
    "        \n",
    "        self.weights = [tf.Variable(np.random.uniform(low=-init_val, high=init_val, size=(layer_sizes[i], layer_sizes[i+1])).astype(np.float32)) for i in range(len(layer_sizes)-1)]\n",
    "        self.biases = [tf.Variable(np.zeros(layer_sizes[i]).astype(np.float32)) for i in range(1,len(layer_sizes))]\n",
    "    \n",
    "    def model(self, input_batch):\n",
    "        \"\"\"returns the logits for a given input batch\"\"\"\n",
    "        \n",
    "        n = len(self.biases)\n",
    "        if n == 1:\n",
    "            return tf.matmul(input_batch, self.weights[0]) + self.biases[0]\n",
    "        \n",
    "        next_input = input_batch\n",
    "        for i in range(n-1):\n",
    "            next_input = tf.nn.leaky_relu(tf.matmul(next_input, self.weights[i]) + self.biases[i])\n",
    "        \n",
    "        return tf.matmul(next_input, self.weights[n-1]) + self.biases[n-1]\n",
    "    \n",
    "    @tf.function\n",
    "    def train(self, imgs, lbls, learning_rate):\n",
    "        \"\"\"returns the cross entropy error\"\"\"\n",
    "        n = len(self.biases)\n",
    "      \n",
    "        with tf.GradientTape() as tape:\n",
    "            logits = self.model(imgs)\n",
    "            xent = tf.reduce_mean(tf.nn.sparse_softmax_cross_entropy_with_logits(\n",
    "                logits=logits, labels=lbls))\n",
    "        \n",
    "        grads = tape.gradient(xent, self.weights + self.biases)\n",
    "        for i in range(n):\n",
    "            self.weights[i].assign_sub(learning_rate * grads[i])\n",
    "            self.biases[i].assign_sub(learning_rate * grads[n+i])\n",
    "        \n",
    "        return xent\n",
    "            \n",
    "            "
   ]
  },
  {
   "cell_type": "code",
   "execution_count": 12,
   "id": "62692688",
   "metadata": {},
   "outputs": [],
   "source": [
    "(train_imgs, train_lbls), (test_imgs, test_lbls) = tf.keras.datasets.mnist.load_data()\n",
    "\n",
    "train_data = tf.data.Dataset.from_tensor_slices(\n",
    "    (train_imgs.reshape((-1, 784)).astype(np.float32) / 255, train_lbls.astype(np.int32))).shuffle(buffer_size=60000).batch(128).repeat()\n",
    "\n",
    "test_data = tf.data.Dataset.from_tensor_slices(\n",
    "    (test_imgs.reshape((-1, 784)).astype(np.float32) / 255, test_lbls.astype(np.int32))).batch(128)\n"
   ]
  },
  {
   "cell_type": "code",
   "execution_count": 14,
   "id": "7dfd39e0",
   "metadata": {},
   "outputs": [
    {
     "name": "stdout",
     "output_type": "stream",
     "text": [
      "eager: mean = 0:00:08.766914\n",
      "graph: mean = 0:00:04.668776\n"
     ]
    }
   ],
   "source": [
    "mlp_times = []\n",
    "for _ in range(10):\n",
    "    start = datetime.now()\n",
    "    mlp = MLP([784, 200, 10], 0.1)\n",
    "    for i, (imgs, lbls) in enumerate(train_data):\n",
    "        if i > 2000:\n",
    "            break\n",
    "        mlp.train(imgs, lbls, 0.1)\n",
    "    mlp_times.append(datetime.now() - start)\n",
    "\n",
    "g_mlp_times = []\n",
    "for _ in range(10):\n",
    "    start = datetime.now()\n",
    "    g_mlp = graph_MLP([784, 200, 10], 0.1)\n",
    "    for i, (imgs, lbls) in enumerate(train_data):\n",
    "        if i > 2000:\n",
    "            break\n",
    "        g_mlp.train(imgs, lbls, 0.1)\n",
    "    g_mlp_times.append(datetime.now() - start)\n",
    "    \n",
    "print(\"eager: mean = {}\".format(np.mean(mlp_times)))\n",
    "print(\"graph: mean = {}\".format(np.mean(g_mlp_times)))"
   ]
  },
  {
   "cell_type": "markdown",
   "id": "010b50dd",
   "metadata": {},
   "source": [
    "## ResNet"
   ]
  },
  {
   "cell_type": "code",
   "execution_count": null,
   "id": "aae72cf5",
   "metadata": {},
   "outputs": [],
   "source": []
  }
 ],
 "metadata": {
  "kernelspec": {
   "display_name": "Python 3 (ipykernel)",
   "language": "python",
   "name": "python3"
  },
  "language_info": {
   "codemirror_mode": {
    "name": "ipython",
    "version": 3
   },
   "file_extension": ".py",
   "mimetype": "text/x-python",
   "name": "python",
   "nbconvert_exporter": "python",
   "pygments_lexer": "ipython3",
   "version": "3.10.12"
  }
 },
 "nbformat": 4,
 "nbformat_minor": 5
}
