{
 "cells": [
  {
   "cell_type": "markdown",
   "id": "9aea25c1",
   "metadata": {},
   "source": [
    "# [Assignment 5](https://ovgu-ailab.github.io/idl2023/assignment5.html)\n",
    "\n",
    "Collaborative Work from Adrian Bremer and Philipp Reinig"
   ]
  },
  {
   "cell_type": "markdown",
   "id": "4126b186",
   "metadata": {},
   "source": [
    "## Setup"
   ]
  },
  {
   "cell_type": "code",
   "execution_count": 1,
   "id": "4dc6a38e",
   "metadata": {},
   "outputs": [
    {
     "name": "stderr",
     "output_type": "stream",
     "text": [
      "2023-11-10 15:01:29.239376: I tensorflow/tsl/cuda/cudart_stub.cc:28] Could not find cuda drivers on your machine, GPU will not be used.\n",
      "2023-11-10 15:01:29.382318: E tensorflow/compiler/xla/stream_executor/cuda/cuda_dnn.cc:9342] Unable to register cuDNN factory: Attempting to register factory for plugin cuDNN when one has already been registered\n",
      "2023-11-10 15:01:29.382369: E tensorflow/compiler/xla/stream_executor/cuda/cuda_fft.cc:609] Unable to register cuFFT factory: Attempting to register factory for plugin cuFFT when one has already been registered\n",
      "2023-11-10 15:01:29.382886: E tensorflow/compiler/xla/stream_executor/cuda/cuda_blas.cc:1518] Unable to register cuBLAS factory: Attempting to register factory for plugin cuBLAS when one has already been registered\n",
      "2023-11-10 15:01:29.447043: I tensorflow/tsl/cuda/cudart_stub.cc:28] Could not find cuda drivers on your machine, GPU will not be used.\n",
      "2023-11-10 15:01:29.448376: I tensorflow/core/platform/cpu_feature_guard.cc:182] This TensorFlow binary is optimized to use available CPU instructions in performance-critical operations.\n",
      "To enable the following instructions: AVX2 FMA, in other operations, rebuild TensorFlow with the appropriate compiler flags.\n",
      "2023-11-10 15:01:30.807909: W tensorflow/compiler/tf2tensorrt/utils/py_utils.cc:38] TF-TRT Warning: Could not find TensorRT\n"
     ]
    }
   ],
   "source": [
    "import tensorflow as tf\n",
    "import numpy as np"
   ]
  },
  {
   "cell_type": "markdown",
   "id": "bada4d4e",
   "metadata": {},
   "source": [
    "## Preparing IMDB"
   ]
  },
  {
   "cell_type": "code",
   "execution_count": 15,
   "id": "80386305",
   "metadata": {},
   "outputs": [],
   "source": [
    "num_words = 20000\n",
    "(train_sequences, train_labels), (test_sequences, test_labels) = tf.keras.datasets.imdb.load_data(num_words=num_words)"
   ]
  },
  {
   "cell_type": "code",
   "execution_count": 16,
   "id": "599876ed",
   "metadata": {},
   "outputs": [
    {
     "name": "stdout",
     "output_type": "stream",
     "text": [
      "2494\n",
      "238\n"
     ]
    }
   ],
   "source": [
    "sequence_lengths = [len(sequence) for sequence in train_sequences]\n",
    "\n",
    "max_len = max(sequence_lengths)\n",
    "print(max_len)\n",
    "mean_len = int(np.mean(sequence_lengths))\n",
    "print(mean_len)"
   ]
  },
  {
   "cell_type": "code",
   "execution_count": 17,
   "id": "01ecf2cd",
   "metadata": {},
   "outputs": [],
   "source": [
    "train_sequences_padded = tf.keras.preprocessing.sequence.pad_sequences(\n",
    "    train_sequences, \n",
    "    maxlen=mean_len # max_len\n",
    ")"
   ]
  },
  {
   "cell_type": "code",
   "execution_count": 18,
   "id": "c359f1ec",
   "metadata": {},
   "outputs": [],
   "source": [
    "one_hot_sequences_padded = tf.one_hot(indices=train_sequences_padded, depth=num_words)"
   ]
  },
  {
   "cell_type": "code",
   "execution_count": 19,
   "id": "dfa4700e",
   "metadata": {},
   "outputs": [
    {
     "data": {
      "text/plain": [
       "<tf.Tensor: shape=(2, 238, 10), dtype=float32, numpy=\n",
       "array([[[1., 0., 0., ..., 0., 0., 0.],\n",
       "        [1., 0., 0., ..., 0., 0., 0.],\n",
       "        [1., 0., 0., ..., 0., 0., 0.],\n",
       "        ...,\n",
       "        [0., 0., 1., ..., 0., 0., 0.],\n",
       "        [0., 0., 1., ..., 0., 0., 0.],\n",
       "        [0., 0., 1., ..., 0., 0., 0.]],\n",
       "\n",
       "       [[1., 0., 0., ..., 0., 0., 0.],\n",
       "        [1., 0., 0., ..., 0., 0., 0.],\n",
       "        [1., 0., 0., ..., 0., 0., 0.],\n",
       "        ...,\n",
       "        [0., 0., 1., ..., 0., 0., 0.],\n",
       "        [0., 0., 1., ..., 0., 0., 0.],\n",
       "        [0., 0., 1., ..., 0., 0., 0.]]], dtype=float32)>"
      ]
     },
     "execution_count": 19,
     "metadata": {},
     "output_type": "execute_result"
    }
   ],
   "source": [
    "train_data = tf.data.Dataset.from_tensor_slices((one_hot_sequences_padded, train_labels))"
   ]
  },
  {
   "cell_type": "markdown",
   "id": "bcafd6f5",
   "metadata": {},
   "source": [
    "## Thoughts on parameters\n",
    "\n",
    "- _TODO_"
   ]
  },
  {
   "cell_type": "code",
   "execution_count": null,
   "id": "19eabfe7",
   "metadata": {},
   "outputs": [],
   "source": []
  }
 ],
 "metadata": {
  "kernelspec": {
   "display_name": "Python 3 (ipykernel)",
   "language": "python",
   "name": "python3"
  },
  "language_info": {
   "codemirror_mode": {
    "name": "ipython",
    "version": 3
   },
   "file_extension": ".py",
   "mimetype": "text/x-python",
   "name": "python",
   "nbconvert_exporter": "python",
   "pygments_lexer": "ipython3",
   "version": "3.10.12"
  }
 },
 "nbformat": 4,
 "nbformat_minor": 5
}
