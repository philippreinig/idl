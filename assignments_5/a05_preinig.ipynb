{
  "nbformat": 4,
  "nbformat_minor": 0,
  "metadata": {
    "colab": {
      "provenance": []
    },
    "kernelspec": {
      "name": "python3",
      "display_name": "Python 3"
    },
    "language_info": {
      "name": "python"
    }
  },
  "cells": [
    {
      "cell_type": "markdown",
      "source": [
        "# Assignment 5\n",
        "Collaborative work by Adrian Bremer & Philipp Reinig\n"
      ],
      "metadata": {
        "id": "DEEo4FAmPCR9"
      }
    },
    {
      "cell_type": "markdown",
      "source": [
        "# Setup"
      ],
      "metadata": {
        "id": "_BPhKu9OPIMp"
      }
    },
    {
      "cell_type": "markdown",
      "source": [
        "## Imports"
      ],
      "metadata": {
        "id": "ysbGXRwNPJ6f"
      }
    },
    {
      "cell_type": "code",
      "source": [
        "!pip install lemminflect"
      ],
      "metadata": {
        "colab": {
          "base_uri": "https://localhost:8080/"
        },
        "id": "kCs5y9snH62H",
        "outputId": "009d9ac0-86aa-4ee2-a6fb-b5b66252ef09"
      },
      "execution_count": 3,
      "outputs": [
        {
          "output_type": "stream",
          "name": "stdout",
          "text": [
            "Requirement already satisfied: lemminflect in /usr/local/lib/python3.10/dist-packages (0.2.3)\n",
            "Requirement already satisfied: numpy in /usr/local/lib/python3.10/dist-packages (from lemminflect) (1.23.5)\n"
          ]
        }
      ]
    },
    {
      "cell_type": "code",
      "metadata": {
        "id": "r-Chp8YyyvxN"
      },
      "source": [
        "import tensorflow as tf\n",
        "import numpy as np\n",
        "from matplotlib import pyplot as plt\n",
        "from tensorflow import keras\n",
        "import statistics\n",
        "import string\n",
        "\n",
        "import nltk\n",
        "\n",
        "from lemminflect import getAllLemmas"
      ],
      "execution_count": 4,
      "outputs": []
    },
    {
      "cell_type": "code",
      "source": [
        "nltk.download('averaged_perceptron_tagger')\n",
        "nltk.download('universal_tagset')"
      ],
      "metadata": {
        "colab": {
          "base_uri": "https://localhost:8080/"
        },
        "id": "kF1ElJzXIAyI",
        "outputId": "034f6e95-4224-4e5a-aa5c-2a7aceb1ca1a"
      },
      "execution_count": 5,
      "outputs": [
        {
          "output_type": "stream",
          "name": "stderr",
          "text": [
            "[nltk_data] Downloading package averaged_perceptron_tagger to\n",
            "[nltk_data]     /root/nltk_data...\n",
            "[nltk_data]   Package averaged_perceptron_tagger is already up-to-\n",
            "[nltk_data]       date!\n",
            "[nltk_data] Downloading package universal_tagset to /root/nltk_data...\n",
            "[nltk_data]   Package universal_tagset is already up-to-date!\n"
          ]
        },
        {
          "output_type": "execute_result",
          "data": {
            "text/plain": [
              "True"
            ]
          },
          "metadata": {},
          "execution_count": 5
        }
      ]
    },
    {
      "cell_type": "markdown",
      "source": [
        "# Loading and exploring the Dataset"
      ],
      "metadata": {
        "id": "JF-CCSCRPL07"
      }
    },
    {
      "cell_type": "code",
      "metadata": {
        "id": "ZVE7aMvC4iXK",
        "colab": {
          "base_uri": "https://localhost:8080/"
        },
        "outputId": "9507b40e-93e1-4ab2-f68e-9770125e8aad"
      },
      "source": [
        "# remove infrequent words. you can play with this parameter as it will likely impact model quality\n",
        "num_words = 5000\n",
        "\n",
        "# Use the default parameters to keras.datasets.imdb.load_data\n",
        "start_char = 1\n",
        "oov_char = 2\n",
        "index_from = 3\n",
        "\n",
        "# Retrieve the dataset\n",
        "(train_seqs, train_labels), (test_seqs, test_labels) = keras.datasets.imdb.load_data(start_char=start_char, oov_char=oov_char, index_from=index_from, num_words=num_words)\n",
        "\n",
        "# Retrieve the word index file mapping words to indices\n",
        "word_index = dict(sorted(keras.datasets.imdb.get_word_index().items()))\n",
        "word_index[\"[START]\"] = start_char\n",
        "word_index[\"[OOV]\"] = oov_char\n",
        "\n",
        "print(f\"First 100 elements of the word_index: {list(word_index.items())[:100]}\")\n",
        "\n",
        "# Reverse the word index to obtain a dict mapping indices to words\n",
        "# And add `index_from` to indices to sync with `x_train`\n",
        "inverted_word_index = dict((i + index_from, word) for (word, i) in word_index.items())\n",
        "# Update `inverted_word_index` to include `start_char` and `oov_char`\n",
        "inverted_word_index[start_char] = \"[START]\"\n",
        "inverted_word_index[oov_char] = \"[OOV]\"\n",
        "\n",
        "inverted_word_index = dict(sorted(inverted_word_index.items()))\n",
        "\n",
        "print(f\"First 100 elements of the inverted_word_index: {list(inverted_word_index.items())[:100]}\")"
      ],
      "execution_count": 30,
      "outputs": [
        {
          "output_type": "stream",
          "name": "stdout",
          "text": [
            "First 100 elements of the word_index: [('\\x08\\x08\\x08\\x08a', 68893), ('\\x10own', 70879), (\"'\", 755), (\"''\", 17448), (\"''a\", 57351), (\"''after\", 64015), (\"''bad\", 72030), (\"''cannibal\", 58448), (\"''clients''\", 80824), (\"''dark''\", 66872), (\"''empire\", 52876), (\"''family\", 85943), (\"''gaslight''\", 58747), (\"''heart''\", 75354), (\"''high\", 66908), (\"''holy\", 83565), (\"''human''\", 61364), (\"''humans''\", 88090), (\"''i'm\", 61351), (\"''if\", 62727), (\"''inuyasha''\", 61770), (\"''little''\", 58164), (\"''maison\", 85895), (\"''ned''\", 62202), (\"''negative''\", 76149), (\"''nice\", 57008), (\"''oh\", 45418), (\"''on\", 66910), (\"''oversexed''\", 75509), (\"''peeping\", 81867), (\"''professionals''\", 76109), (\"''ranma\", 44903), (\"''raptors''\", 70722), (\"''return\", 55138), (\"''saint\", 51394), (\"''scarface''\", 51257), (\"''sea\", 49404), (\"''talent\", 84926), (\"''terrorists''\", 81627), (\"''the\", 20197), (\"''their\", 84051), (\"''this\", 66430), (\"''thunderball\", 87604), (\"''troubled''\", 79833), (\"''unpleasant\", 66417), (\"''villain\", 71277), (\"''voyeur''\", 70370), (\"''we're\", 66244), (\"''while''\", 65559), (\"''your\", 65411), (\"''zero\", 47109), (\"'0\", 79347), (\"'00s\", 30582), (\"'01\", 24377), (\"'02\", 32858), (\"'03\", 32859), (\"'04\", 32856), (\"'05\", 38134), (\"'06\", 32857), (\"'07\", 34094), (\"'08\", 47119), (\"'1\", 79346), (\"'1'\", 39270), (\"'10\", 79074), (\"'10'\", 24957), (\"'12\", 24746), (\"'1408'\", 69312), (\"'1902'\", 65699), (\"'1909\", 60730), (\"'1940'\", 75118), (\"'2'\", 35883), (\"'2001\", 69564), (\"'20s\", 60473), (\"'24\", 87592), (\"'24'\", 40710), (\"'28\", 35882), (\"'30\", 65650), (\"'30's\", 18972), (\"'30s\", 12641), (\"'34\", 32136), (\"'38\", 65652), (\"'39\", 65651), (\"'3rd\", 73766), (\"'4\", 49196), (\"'4'\", 44164), (\"'40\", 82137), (\"'40's\", 18786), (\"'40s\", 14047), (\"'41\", 62912), (\"'42\", 28530), (\"'42nd\", 58169), (\"'43\", 44167), (\"'44\", 36549), (\"'45\", 62913), (\"'46\", 44168), (\"'47\", 62914), (\"'48\", 44169), (\"'4th\", 53118), (\"'5'\", 70028), (\"'50's\", 20059)]\n",
            "First 100 elements of the inverted_word_index: [(1, '[START]'), (2, '[OOV]'), (4, '[START]'), (5, '[OOV]'), (6, 'a'), (7, 'of'), (8, 'to'), (9, 'is'), (10, 'br'), (11, 'in'), (12, 'it'), (13, 'i'), (14, 'this'), (15, 'that'), (16, 'was'), (17, 'as'), (18, 'for'), (19, 'with'), (20, 'movie'), (21, 'but'), (22, 'film'), (23, 'on'), (24, 'not'), (25, 'you'), (26, 'are'), (27, 'his'), (28, 'have'), (29, 'he'), (30, 'be'), (31, 'one'), (32, 'all'), (33, 'at'), (34, 'by'), (35, 'an'), (36, 'they'), (37, 'who'), (38, 'so'), (39, 'from'), (40, 'like'), (41, 'her'), (42, 'or'), (43, 'just'), (44, 'about'), (45, \"it's\"), (46, 'out'), (47, 'has'), (48, 'if'), (49, 'some'), (50, 'there'), (51, 'what'), (52, 'good'), (53, 'more'), (54, 'when'), (55, 'very'), (56, 'up'), (57, 'no'), (58, 'time'), (59, 'she'), (60, 'even'), (61, 'my'), (62, 'would'), (63, 'which'), (64, 'only'), (65, 'story'), (66, 'really'), (67, 'see'), (68, 'their'), (69, 'had'), (70, 'can'), (71, 'were'), (72, 'me'), (73, 'well'), (74, 'than'), (75, 'we'), (76, 'much'), (77, 'been'), (78, 'bad'), (79, 'get'), (80, 'will'), (81, 'do'), (82, 'also'), (83, 'into'), (84, 'people'), (85, 'other'), (86, 'first'), (87, 'great'), (88, 'because'), (89, 'how'), (90, 'him'), (91, 'most'), (92, \"don't\"), (93, 'made'), (94, 'its'), (95, 'then'), (96, 'way'), (97, 'make'), (98, 'them'), (99, 'too'), (100, 'could'), (101, 'any')]\n"
          ]
        }
      ]
    },
    {
      "cell_type": "code",
      "metadata": {
        "id": "9axnbnwR6q6W"
      },
      "source": [
        "# we cannot create a dataset :( this is because sequences are different length\n",
        "# but tensors have to be \"rectangular\"\n",
        "# train_data = tf.data.Dataset.from_tensor_slices(train_sequences, train_labels)"
      ],
      "execution_count": 7,
      "outputs": []
    },
    {
      "cell_type": "code",
      "metadata": {
        "id": "m2lt9mE-9XO7"
      },
      "source": [
        "# solution is padding all sequences to the maximum length.\n",
        "# first find the maximum length\n",
        "seq_lengths = [len(sequence) for sequence in train_seqs]\n",
        "max_seq_length = max(seq_lengths)"
      ],
      "execution_count": 14,
      "outputs": []
    },
    {
      "cell_type": "code",
      "metadata": {
        "id": "677ZXcRu9nUe",
        "colab": {
          "base_uri": "https://localhost:8080/",
          "height": 501
        },
        "outputId": "857eda5c-cb1d-43cf-a099-91071228d241"
      },
      "source": [
        "# overview over sequence lengths in the data\n",
        "# could also look at mean, median, standard deviation...\n",
        "plt.hist(seq_lengths, bins=1000)\n",
        "\n",
        "sl_np_array = np.array(seq_lengths)\n",
        "min_seq_length = np.min(sl_np_array)\n",
        "median_seq_length = np.median(sl_np_array)\n",
        "average_seq_length = np.average(sl_np_array)\n",
        "\n",
        "print(f\"Minimum text length is: {min_seq_length}\")\n",
        "print(f\"Maximum text length is: {max_seq_length}\")\n",
        "print(f\"Median text length is: {median_seq_length}\")\n",
        "print(f\"Average text length is: {average_seq_length}\")\n",
        "\n",
        "plt.show()"
      ],
      "execution_count": 15,
      "outputs": [
        {
          "output_type": "stream",
          "name": "stdout",
          "text": [
            "Minimum text length is: 11\n",
            "Maximum text length is: 2494\n",
            "Median text length is: 178.0\n",
            "Average text length is: 238.71364\n"
          ]
        },
        {
          "output_type": "display_data",
          "data": {
            "text/plain": [
              "<Figure size 640x480 with 1 Axes>"
            ],
            "image/png": "[encoded data removed]"
          },
          "metadata": {}
        }
      ]
    },
    {
      "cell_type": "code",
      "metadata": {
        "id": "lYr10G5M9rWX"
      },
      "source": [
        "# luckily there is a convenient function for padding\n",
        "train_sequences_padded = tf.keras.preprocessing.sequence.pad_sequences(train_sqs, maxlen=max_len, padding='pre')"
      ],
      "execution_count": 121,
      "outputs": []
    },
    {
      "cell_type": "code",
      "metadata": {
        "id": "pXEICggj-OL-"
      },
      "source": [
        "# now we can create a dataset!\n",
        "train_data = tf.data.Dataset.from_tensor_slices((train_sequences_padded, train_labels))"
      ],
      "execution_count": 122,
      "outputs": []
    },
    {
      "cell_type": "code",
      "metadata": {
        "id": "IPTPy5Ff-Q_C",
        "colab": {
          "base_uri": "https://localhost:8080/"
        },
        "outputId": "47367817-af48-436e-e434-cd6eb70912ec"
      },
      "source": [
        "# all sequences are... very long\n",
        "print(train_sequences_padded.shape)\n"
      ],
      "execution_count": 123,
      "outputs": [
        {
          "output_type": "stream",
          "name": "stdout",
          "text": [
            "(25000, 2494)\n"
          ]
        }
      ]
    },
    {
      "cell_type": "code",
      "metadata": {
        "id": "ug0OSIGjf6ji",
        "colab": {
          "base_uri": "https://localhost:8080/"
        },
        "outputId": "756ae69d-ad1a-411d-a1ee-8a2475035824"
      },
      "source": [
        "# it would be better to do something like this\n",
        "# all sequences above maxlen will be truncated to that length\n",
        "# note: pad_sequences has \"pre\" and \"post\" options for both padding and truncation. one may be better than the other!\n",
        "train_sequences_padded = tf.keras.preprocessing.sequence.pad_sequences(train_sequences, maxlen=200)\n",
        "train_data = tf.data.Dataset.from_tensor_slices((train_sequences_padded, train_labels))\n",
        "\n",
        "print(train_sequences_padded.shape)"
      ],
      "execution_count": 124,
      "outputs": [
        {
          "output_type": "stream",
          "name": "stdout",
          "text": [
            "(25000, 200)\n"
          ]
        }
      ]
    },
    {
      "cell_type": "code",
      "metadata": {
        "id": "2ZW7YdDv_fRJ",
        "colab": {
          "base_uri": "https://localhost:8080/"
        },
        "outputId": "1c544141-4d2a-475c-f11f-784a33632611"
      },
      "source": [
        "# for fun, you can look at the word-index mappings.\n",
        "# in this case, the mapping was done according to word frequency.\n",
        "# you can pass reverse=True to sorted() to look at the least common words.\n",
        "print(\"The most frequent 100 word are: \")\n",
        "print(sorted(inverted_word_index.items())[2:102])"
      ],
      "execution_count": 18,
      "outputs": [
        {
          "output_type": "stream",
          "name": "stdout",
          "text": [
            "The most frequent 100 word are: \n",
            "[(4, 'the'), (5, 'and'), (6, 'a'), (7, 'of'), (8, 'to'), (9, 'is'), (10, 'br'), (11, 'in'), (12, 'it'), (13, 'i'), (14, 'this'), (15, 'that'), (16, 'was'), (17, 'as'), (18, 'for'), (19, 'with'), (20, 'movie'), (21, 'but'), (22, 'film'), (23, 'on'), (24, 'not'), (25, 'you'), (26, 'are'), (27, 'his'), (28, 'have'), (29, 'he'), (30, 'be'), (31, 'one'), (32, 'all'), (33, 'at'), (34, 'by'), (35, 'an'), (36, 'they'), (37, 'who'), (38, 'so'), (39, 'from'), (40, 'like'), (41, 'her'), (42, 'or'), (43, 'just'), (44, 'about'), (45, \"it's\"), (46, 'out'), (47, 'has'), (48, 'if'), (49, 'some'), (50, 'there'), (51, 'what'), (52, 'good'), (53, 'more'), (54, 'when'), (55, 'very'), (56, 'up'), (57, 'no'), (58, 'time'), (59, 'she'), (60, 'even'), (61, 'my'), (62, 'would'), (63, 'which'), (64, 'only'), (65, 'story'), (66, 'really'), (67, 'see'), (68, 'their'), (69, 'had'), (70, 'can'), (71, 'were'), (72, 'me'), (73, 'well'), (74, 'than'), (75, 'we'), (76, 'much'), (77, 'been'), (78, 'bad'), (79, 'get'), (80, 'will'), (81, 'do'), (82, 'also'), (83, 'into'), (84, 'people'), (85, 'other'), (86, 'first'), (87, 'great'), (88, 'because'), (89, 'how'), (90, 'him'), (91, 'most'), (92, \"don't\"), (93, 'made'), (94, 'its'), (95, 'then'), (96, 'way'), (97, 'make'), (98, 'them'), (99, 'too'), (100, 'could'), (101, 'any'), (102, 'movies'), (103, 'after')]\n"
          ]
        }
      ]
    },
    {
      "cell_type": "markdown",
      "source": [
        "# Building a RNN Model for IMDB Movie Review"
      ],
      "metadata": {
        "id": "rT8kelR-z0S7"
      }
    },
    {
      "cell_type": "markdown",
      "source": [
        "## Utils"
      ],
      "metadata": {
        "id": "ZgvjA0Jx-cMD"
      }
    },
    {
      "cell_type": "markdown",
      "source": [
        "### Conversions"
      ],
      "metadata": {
        "id": "F1DpKRUaBU2J"
      }
    },
    {
      "cell_type": "code",
      "source": [
        "def indx_to_word(i: int) -> str:\n",
        "  return inverted_word_index.get(i, \"UNKNOWN\")\n",
        "\n",
        "def word_to_indx(w: str) -> int:\n",
        "  return word_index[w]+3\n",
        "\n",
        "def seq_to_words(seq: list[str]) -> str:\n",
        "  \"\"\"\n",
        "  Converts a sequence (a list of indices, decoding words) to decoded string (a list of strings the indices decode)\n",
        "  \"\"\"\n",
        "  return [indx_to_word(indx) for indx in seq]\n",
        "\n",
        "def seq_to_text(seq: list[str]) -> str:\n",
        "  \"\"\"\n",
        "  Converts a sequence (a list of indices, decoding words) to decoded human readable text (one large string)\n",
        "  \"\"\"\n",
        "  return \" \".join(seq_to_words(seq))"
      ],
      "metadata": {
        "id": "f8c5C5u9BWU5"
      },
      "execution_count": 43,
      "outputs": []
    },
    {
      "cell_type": "code",
      "source": [
        "print(seq_to_text(train_seqs[0]))\n",
        "print(seq_to_words(train_seqs[0]))"
      ],
      "metadata": {
        "colab": {
          "base_uri": "https://localhost:8080/"
        },
        "id": "CkOX0FNmJQg0",
        "outputId": "aa365227-b916-484e-9cca-779fd988495e"
      },
      "execution_count": 49,
      "outputs": [
        {
          "output_type": "stream",
          "name": "stdout",
          "text": [
            "[START] this film was just brilliant casting location scenery story direction everyone's really suited [START] part they played [OOV] you could just imagine being there robert [OOV] is an amazing actor [OOV] now [START] same being director [OOV] father came from [START] same scottish island as myself so i loved [START] fact there was a real connection with this film [START] witty remarks throughout [START] film were great it was just brilliant so much that i bought [START] film as soon as it was released for [OOV] [OOV] would recommend it to everyone to watch [OOV] [START] fly [OOV] was amazing really cried at [START] end it was so sad [OOV] you know what they say if you cry at a film it must have been good [OOV] this definitely was also [OOV] to [START] two little [OOV] that played [START] [OOV] of norman [OOV] paul they were just brilliant children are often left out of [START] [OOV] list i think because [START] stars that play them all grown up are such a big [OOV] for [START] whole film but these children are amazing [OOV] should be [OOV] for what they have done don't you think [START] whole story was so lovely because it was true [OOV] was someone's life after all that was [OOV] with us all\n",
            "['[START]', 'this', 'film', 'was', 'just', 'brilliant', 'casting', 'location', 'scenery', 'story', 'direction', \"everyone's\", 'really', 'suited', '[START]', 'part', 'they', 'played', '[OOV]', 'you', 'could', 'just', 'imagine', 'being', 'there', 'robert', '[OOV]', 'is', 'an', 'amazing', 'actor', '[OOV]', 'now', '[START]', 'same', 'being', 'director', '[OOV]', 'father', 'came', 'from', '[START]', 'same', 'scottish', 'island', 'as', 'myself', 'so', 'i', 'loved', '[START]', 'fact', 'there', 'was', 'a', 'real', 'connection', 'with', 'this', 'film', '[START]', 'witty', 'remarks', 'throughout', '[START]', 'film', 'were', 'great', 'it', 'was', 'just', 'brilliant', 'so', 'much', 'that', 'i', 'bought', '[START]', 'film', 'as', 'soon', 'as', 'it', 'was', 'released', 'for', '[OOV]', '[OOV]', 'would', 'recommend', 'it', 'to', 'everyone', 'to', 'watch', '[OOV]', '[START]', 'fly', '[OOV]', 'was', 'amazing', 'really', 'cried', 'at', '[START]', 'end', 'it', 'was', 'so', 'sad', '[OOV]', 'you', 'know', 'what', 'they', 'say', 'if', 'you', 'cry', 'at', 'a', 'film', 'it', 'must', 'have', 'been', 'good', '[OOV]', 'this', 'definitely', 'was', 'also', '[OOV]', 'to', '[START]', 'two', 'little', '[OOV]', 'that', 'played', '[START]', '[OOV]', 'of', 'norman', '[OOV]', 'paul', 'they', 'were', 'just', 'brilliant', 'children', 'are', 'often', 'left', 'out', 'of', '[START]', '[OOV]', 'list', 'i', 'think', 'because', '[START]', 'stars', 'that', 'play', 'them', 'all', 'grown', 'up', 'are', 'such', 'a', 'big', '[OOV]', 'for', '[START]', 'whole', 'film', 'but', 'these', 'children', 'are', 'amazing', '[OOV]', 'should', 'be', '[OOV]', 'for', 'what', 'they', 'have', 'done', \"don't\", 'you', 'think', '[START]', 'whole', 'story', 'was', 'so', 'lovely', 'because', 'it', 'was', 'true', '[OOV]', 'was', \"someone's\", 'life', 'after', 'all', 'that', 'was', '[OOV]', 'with', 'us', 'all']\n"
          ]
        }
      ]
    },
    {
      "cell_type": "markdown",
      "source": [
        "### Adjective or Adverb Check"
      ],
      "metadata": {
        "id": "ZcJUQEsPY0qD"
      }
    },
    {
      "cell_type": "code",
      "source": [
        "# NLTK library has a really bad performance for detecting adjectives ~ 50%\n",
        "def is_adjective_or_adverb_using_nltk(s: str) -> bool:\n",
        "  nltk_type_of_word = nltk.pos_tag([s], tagset=\"universal\")[0][1]\n",
        "  is_adjective_or_adverb = nltk_type_of_word == \"ADJ\" or nltk_type_of_word == \"ADV\"\n",
        "  #if is_adjective_or_adverb:\n",
        "  print(f\"{s} {'is an adjective or adverb' if is_adjective_or_adverb else f'is not an adjective or adverb, it is: {nltk_type_of_word}'}\")\n",
        "  return is_adjective_or_adverb\n",
        "\n",
        "# Lemminflect's performance is > 90%, way better!\n",
        "def is_adjective_or_adverb(s: str) -> bool:\n",
        "  lemmas = getAllLemmas(s)\n",
        "  #print(f\"{s}'s lemmas: {lemmas}\")\n",
        "  return \"ADJ\" in lemmas or \"ADV\" in lemmas"
      ],
      "metadata": {
        "id": "GVK1o_SFY3Fk"
      },
      "execution_count": 50,
      "outputs": []
    },
    {
      "cell_type": "markdown",
      "source": [
        "### Preprocessing Data"
      ],
      "metadata": {
        "id": "sfRCNzLn-d65"
      }
    },
    {
      "cell_type": "code",
      "source": [
        "# Pre-process a single string\n",
        "def pre_process_str(s: str) -> str:\n",
        "\n",
        "  # Remove punctuation\n",
        "  def remove_punctuation(s: str) -> str:\n",
        "    s = s.translate(str.maketrans('', '', string.punctuation))\n",
        "    return s\n",
        "\n",
        "  return remove_punctuation(s)\n",
        "\n",
        "\n",
        "# Pre-process an entire sequence\n",
        "def pre_process_sequence(seq: list[int]) -> list[int]:\n",
        "  words = seq_to_words(seq)\n",
        "  words_processed = [w for w in words if(w != \"UNKNOWN\" and  w != \"[OOV]\" and w != \"[START]\" and is_adjective_or_adverb(w))]\n",
        "  return [word_to_indx(w) for w in words_processed]\n",
        "\n"
      ],
      "metadata": {
        "id": "pxHamMpi2DtD"
      },
      "execution_count": 53,
      "outputs": []
    },
    {
      "cell_type": "code",
      "source": [
        "print(f\"Without processing: {seq_to_text(train_seqs[0])}\")\n",
        "print(f\"After preprocessing: {seq_to_text(pre_process_sequence(train_seqs[0]))}\")"
      ],
      "metadata": {
        "colab": {
          "base_uri": "https://localhost:8080/"
        },
        "id": "W83Ynq0sZ3to",
        "outputId": "6929ac97-9541-4691-f864-07e402fa3891"
      },
      "execution_count": 52,
      "outputs": [
        {
          "output_type": "stream",
          "name": "stdout",
          "text": [
            "Without processing: [START] this film was just brilliant casting location scenery story direction everyone's really suited [START] part they played [OOV] you could just imagine being there robert [OOV] is an amazing actor [OOV] now [START] same being director [OOV] father came from [START] same scottish island as myself so i loved [START] fact there was a real connection with this film [START] witty remarks throughout [START] film were great it was just brilliant so much that i bought [START] film as soon as it was released for [OOV] [OOV] would recommend it to everyone to watch [OOV] [START] fly [OOV] was amazing really cried at [START] end it was so sad [OOV] you know what they say if you cry at a film it must have been good [OOV] this definitely was also [OOV] to [START] two little [OOV] that played [START] [OOV] of norman [OOV] paul they were just brilliant children are often left out of [START] [OOV] list i think because [START] stars that play them all grown up are such a big [OOV] for [START] whole film but these children are amazing [OOV] should be [OOV] for what they have done don't you think [START] whole story was so lovely because it was true [OOV] was someone's life after all that was [OOV] with us all\n",
            "After preprocessing: just brilliant really part just being there amazing now same being same as so there real witty throughout great just brilliant so much as soon as to to amazing really so sad good definitely also to two little just brilliant often left out up big whole amazing done whole so lovely true after\n"
          ]
        }
      ]
    },
    {
      "cell_type": "code",
      "metadata": {
        "id": "u4fwUhqBACri",
        "colab": {
          "base_uri": "https://localhost:8080/"
        },
        "outputId": "21b5606f-aa24-49e5-9228-72d2445cafb2"
      },
      "source": [
        "# here is a high-level sketch for training RNNs\n",
        "\n",
        "# training loop -- same thing as before!!\n",
        "# our data is now slightly different (each batch of sequences has a time axis, which is kinda new)\n",
        "# but all the related changes are hidden away at lower levels\n",
        "def train_loop():\n",
        "    for sequence_batch, label_batch in train_data:\n",
        "        train_step(sequence_batch, label_batch)\n",
        "\n",
        "\n",
        "# a single training step -- again, seems familiar?\n",
        "def train_step(sequences, labels):\n",
        "    with tf.GradientTape() as tape:\n",
        "        logits = rnn_loop(sequences)\n",
        "        loss = loss_fn(labels, logits)\n",
        "\n",
        "    gradient = ...\n",
        "    apply_gradients(...)\n",
        "\n",
        "\n",
        "# here's where things start to change\n",
        "# we loop over the input time axis, and at each time step compute the new\n",
        "# hidden state based on the previous one as well as the current input\n",
        "# the state computation is hidden away in the rnn_step function and could be\n",
        "# arbitrarily complex.\n",
        "# in the general RNN, an output is computed at each time step, and the whole\n",
        "# sequence is returned. but in this case, since we only have one label for the\n",
        "# entire sequence, we only use the final state to compute one output and return it.\n",
        "# before the loop, the state need to be initialized somehow.\n",
        "@tf.function\n",
        "def rnn_loop(sequences):\n",
        "    old_state = ...  # initial state\n",
        "\n",
        "    for step in tf.range(max_len):\n",
        "        x_t = sequences[:, step]\n",
        "        x_t = tf.one_hot(x_t, depth=num_words)\n",
        "        new_state = rnn_step(old_state, x_t)\n",
        "\n",
        "        old_state = new_state\n",
        "\n",
        "    o_t = output_layer(new_state)\n",
        "\n",
        "    return o_t\n",
        "\n",
        "\n",
        "# see formulas in the book ;)\n",
        "def rnn_step(state, x_t):\n",
        "    ..."
      ],
      "execution_count": 19,
      "outputs": [
        {
          "output_type": "stream",
          "name": "stdout",
          "text": [
            "Ellipsis\n",
            "<class 'ellipsis'>\n"
          ]
        }
      ]
    }
  ]
}