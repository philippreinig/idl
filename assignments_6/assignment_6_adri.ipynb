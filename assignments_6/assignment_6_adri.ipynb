{
 "cells": [
  {
   "cell_type": "markdown",
   "id": "iWPkFp8o3brZ",
   "metadata": {
    "id": "iWPkFp8o3brZ"
   },
   "source": [
    "# Assignment 6\n",
    "Collaborative work by Adrian Bremer & Philipp Reinig"
   ]
  },
  {
   "cell_type": "markdown",
   "id": "dU1M-gE43itH",
   "metadata": {
    "id": "dU1M-gE43itH"
   },
   "source": [
    "# Setup"
   ]
  },
  {
   "cell_type": "markdown",
   "id": "6JyhpQe7V4zI",
   "metadata": {
    "id": "6JyhpQe7V4zI"
   },
   "source": [
    "### Imports"
   ]
  },
  {
   "cell_type": "code",
   "execution_count": 1,
   "id": "151d3606-fb7b-4102-b2e5-2ff90dff41d4",
   "metadata": {
    "id": "151d3606-fb7b-4102-b2e5-2ff90dff41d4"
   },
   "outputs": [],
   "source": [
    "import tensorflow as tf\n",
    "import numpy as np\n",
    "from matplotlib import pyplot as plt\n",
    "tfkl = tf.keras.layers"
   ]
  },
  {
   "cell_type": "markdown",
   "id": "oDxYyey0BDs_",
   "metadata": {
    "id": "oDxYyey0BDs_"
   },
   "source": [
    "### Hyperparameters"
   ]
  },
  {
   "cell_type": "code",
   "execution_count": 2,
   "id": "LOPZycI3BDN_",
   "metadata": {
    "id": "LOPZycI3BDN_"
   },
   "outputs": [],
   "source": [
    "# Optimizing the Model\n",
    "\n",
    "num_words = 5000\n",
    "\n",
    "batch_size = 128\n",
    "epochs = 10\n",
    "learning_rate = 0.001\n",
    "\n",
    "hidden_size = 128\n",
    "use_softmax = False\n",
    "\n",
    "shall_print_training_info = True"
   ]
  },
  {
   "cell_type": "markdown",
   "id": "12c48c39",
   "metadata": {
    "id": "12c48c39"
   },
   "source": [
    "### Utils"
   ]
  },
  {
   "cell_type": "code",
   "execution_count": 3,
   "id": "d19edf0a",
   "metadata": {
    "id": "d19edf0a"
   },
   "outputs": [],
   "source": [
    "def print_training_info(epoch, training_loss, training_accuracy, test_loss, test_accuracy):\n",
    "  print(f\"Epoch: {epoch}\")\n",
    "  print(f\"\\tTraining loss: {training_loss}\")\n",
    "  print(f\"\\tTraining accuracy: {training_accuracy}\")\n",
    "  print(f\"\\tTest loss: {test_loss}\")\n",
    "  print(f\"\\tTest accuracy: {test_accuracy}\")\n",
    "  print(\"-------------------------------------------------------------\")\n"
   ]
  },
  {
   "cell_type": "markdown",
   "id": "TQuU21CTCPJv",
   "metadata": {
    "id": "TQuU21CTCPJv"
   },
   "source": [
    "\n",
    "### Loading the Dataset"
   ]
  },
  {
   "cell_type": "code",
   "execution_count": 4,
   "id": "_mA8OH1pCNiX",
   "metadata": {
    "colab": {
     "base_uri": "https://localhost:8080/"
    },
    "id": "_mA8OH1pCNiX",
    "outputId": "e601586b-522d-4252-d8e8-238a45eae5c3"
   },
   "outputs": [
    {
     "name": "stdout",
     "output_type": "stream",
     "text": [
      "Downloading data from https://storage.googleapis.com/tensorflow/tf-keras-datasets/imdb.npz\n",
      "17464789/17464789 [==============================] - 1s 0us/step\n"
     ]
    }
   ],
   "source": [
    "# data\n",
    "# remove infrequent words. you can play with this parameter as it will likely impact model quality\n",
    "(train_sequences, train_labels), (test_sequences, test_labels) = tf.keras.datasets.imdb.load_data(num_words=num_words)\n"
   ]
  },
  {
   "cell_type": "markdown",
   "id": "lCsTGtkE_HEC",
   "metadata": {
    "id": "lCsTGtkE_HEC"
   },
   "source": [
    "### Reference Model"
   ]
  },
  {
   "cell_type": "code",
   "execution_count": 5,
   "id": "10eccb0e-e1f7-42f0-97e1-2d02971e9cac",
   "metadata": {
    "id": "10eccb0e-e1f7-42f0-97e1-2d02971e9cac"
   },
   "outputs": [],
   "source": [
    "def model_reference():\n",
    "  max_len = 200\n",
    "\n",
    "\n",
    "  # if you wanna see a more low-level one, it's at the bottom of the notebook.\n",
    "  # sequences: batch_size, time_steps, values\n",
    "  @tf.function(jit_compile=True)\n",
    "  def rnn_loop(sequence_batch):\n",
    "    old_state = tf.zeros((tf.shape(sequence_batch)[0], hidden_size))  # initial state\n",
    "\n",
    "    for step in tf.range(max_len):\n",
    "        x_t = sequence_batch[:, step]\n",
    "        x_t = tf.one_hot(x_t, depth=num_words)\n",
    "\n",
    "        concatenated = tf.concat((x_t, old_state), axis=-1)\n",
    "\n",
    "        new_state = to_hidden(concatenated)\n",
    "\n",
    "        old_state = new_state\n",
    "\n",
    "    o_t = to_output(new_state)\n",
    "\n",
    "    return o_t\n",
    "\n",
    "  @tf.function(jit_compile=True)\n",
    "  def train_step(sequence_batch, label_batch):\n",
    "    with tf.GradientTape() as tape:\n",
    "        logits = rnn_loop(sequence_batch)\n",
    "        loss = loss_fn(label_batch, logits)\n",
    "\n",
    "    gradients = tape.gradient(loss, weights)\n",
    "    optimizer.apply_gradients(zip(gradients, weights))\n",
    "\n",
    "    accuracy_metric(label_batch, logits)\n",
    "    loss_metric(label_batch, logits)\n",
    "\n",
    "    return loss\n",
    "\n",
    "\n",
    "  # luckily there is a convenient function for padding\n",
    "  train_sequences_padded = tf.keras.preprocessing.sequence.pad_sequences(train_sequences, maxlen=max_len)\n",
    "  test_sequences_padded = tf.keras.preprocessing.sequence.pad_sequences(test_sequences, maxlen=max_len)\n",
    "\n",
    "  train_data = tf.data.Dataset.from_tensor_slices((train_sequences_padded, train_labels)).shuffle(25000).batch(batch_size)\n",
    "  test_data = tf.data.Dataset.from_tensor_slices((test_sequences_padded, test_labels)).batch(batch_size)\n",
    "\n",
    "\n",
    "  # create model\n",
    "  to_hidden = tfkl.Dense(hidden_size, activation=tf.nn.tanh)\n",
    "  to_output = tfkl.Dense(2 if use_softmax else 1)\n",
    "  to_hidden.build((None, num_words + hidden_size))\n",
    "  to_output.build((None, hidden_size))\n",
    "  # if we don't build the layers here, they have no weights :(\n",
    "  weights = to_hidden.trainable_variables + to_output.trainable_variables\n",
    "\n",
    "  loss_fn = tf.keras.losses.SparseCategoricalCrossentropy(from_logits=False) if use_softmax else tf.keras.losses.BinaryCrossentropy(from_logits=False)\n",
    "  # gradient clipping!\n",
    "  optimizer = tf.keras.optimizers.Adam(learning_rate, global_clipnorm=1.)\n",
    "\n",
    "  accuracy_metric = tf.keras.metrics.SparseCategoricalAccuracy() if use_softmax else tf.keras.metrics.BinaryAccuracy(threshold=0.)\n",
    "  loss_metric = tf.keras.metrics.SparseCategoricalCrossentropy(from_logits=False) if use_softmax else tf.keras.metrics.BinaryCrossentropy(from_logits=False)\n",
    "\n",
    "  train_losses = []\n",
    "  train_accs = []\n",
    "  test_losses = []\n",
    "  test_accs = []\n",
    "  for epoch in range(1, epochs+1):\n",
    "      loss_metric.reset_state()\n",
    "      accuracy_metric.reset_state()\n",
    "      for sequences, labels in train_data:\n",
    "          batch_loss = train_step(sequences, labels)\n",
    "\n",
    "      train_losses.append(loss_metric.result())\n",
    "      train_accs.append(accuracy_metric.result())\n",
    "\n",
    "      loss_metric.reset_state()\n",
    "      accuracy_metric.reset_state()\n",
    "      for sequences, labels in test_data:\n",
    "          logits = rnn_loop(sequences)\n",
    "          accuracy_metric(labels, logits)\n",
    "          loss_metric(labels, logits)\n",
    "\n",
    "      test_losses.append(loss_metric.result())\n",
    "      test_accs.append( accuracy_metric.result())\n",
    "\n",
    "      if shall_print_training_info:\n",
    "        print_training_info(epoch, train_losses[-1], train_accs[-1], test_losses[-1], test_accs[-1])\n",
    "\n",
    "  return (train_losses, train_accs, test_losses, test_accs)\n"
   ]
  },
  {
   "cell_type": "markdown",
   "id": "lVEtw189GatS",
   "metadata": {
    "id": "lVEtw189GatS"
   },
   "source": [
    "### Within-batch Padding"
   ]
  },
  {
   "cell_type": "code",
   "execution_count": 9,
   "id": "zRAr8N_EKEzP",
   "metadata": {
    "colab": {
     "base_uri": "https://localhost:8080/"
    },
    "id": "zRAr8N_EKEzP",
    "outputId": "975e57f1-aebc-4474-8a59-95eb48d858f4"
   },
   "outputs": [
    {
     "name": "stdout",
     "output_type": "stream",
     "text": [
      "<_TakeDataset element_spec=(TensorSpec(shape=(None, None), dtype=tf.int32, name=None), TensorSpec(shape=(None,), dtype=tf.int32, name=None))>\n"
     ]
    }
   ],
   "source": [
    "def gen_train_data():\n",
    "  for sequence, label in zip(train_sequences, train_labels):\n",
    "    yield (sequence, label)\n",
    "\n",
    "\n",
    "train_data = tf.data.Dataset.from_generator(gen_train_data, output_signature= (\n",
    "        tf.TensorSpec(shape=(None,), dtype=tf.int32),\n",
    "        tf.TensorSpec(shape=(), dtype=tf.int32)\n",
    "    )).shuffle(25000).padded_batch(batch_size)\n",
    "\n",
    "print(train_data.take(1))"
   ]
  },
  {
   "cell_type": "code",
   "execution_count": 23,
   "id": "KvXK21bRGa8I",
   "metadata": {
    "id": "KvXK21bRGa8I"
   },
   "outputs": [],
   "source": [
    "def model_within_batch_padding():\n",
    "  max_len = 400\n",
    "\n",
    "  # sequences: batch_size, time_steps, values\n",
    "  @tf.function(jit_compile=True)\n",
    "  def rnn_loop(sequence_batch):\n",
    "    old_state = tf.zeros((tf.shape(sequence_batch)[0], hidden_size))  # initial state\n",
    "\n",
    "    for step in tf.range(tf.shape(sequence_batch)[1]):\n",
    "        x_t = sequence_batch[:, step]\n",
    "        # check for post padding (can't be avoided with padded_batch and everything else sucks)\n",
    "        # tf.reduce_any is true when at least 1 entry in x_t is != 0 -> want everything 0 -> not\n",
    "        if not tf.reduce_any(tf.cast(x_t, tf.bool)):\n",
    "          break\n",
    "\n",
    "        x_t = tf.one_hot(x_t, depth=num_words)\n",
    "\n",
    "        concatenated = tf.concat((x_t, old_state), axis=-1)\n",
    "\n",
    "        new_state = to_hidden(concatenated)\n",
    "\n",
    "        old_state = new_state\n",
    "\n",
    "    o_t = to_output(old_state)\n",
    "\n",
    "    return o_t\n",
    "\n",
    "  @tf.function(jit_compile=True)\n",
    "  def train_step(sequence_batch, label_batch):\n",
    "    with tf.GradientTape() as tape:\n",
    "        logits = rnn_loop(sequence_batch)\n",
    "        loss = loss_fn(label_batch, logits)\n",
    "\n",
    "    gradients = tape.gradient(loss, weights)\n",
    "    optimizer.apply_gradients(zip(gradients, weights))\n",
    "\n",
    "    accuracy_metric(label_batch, logits)\n",
    "    loss_metric(label_batch, logits)\n",
    "\n",
    "    return loss\n",
    "\n",
    "  # reverse to have pre padding in the sequences\n",
    "  #truncated_train_sequences = [(np.flip(train_sequence[0:max_len]) if len(train_sequence) > max_len else np.flip(train_sequence)) for train_sequence in train_sequences]\n",
    "  #truncated_test_sequences = [(np.flip(test_sequence[0:max_len]) if len(test_sequence) > max_len else np.flip(test_sequence)) for test_sequence in test_sequences]\n",
    "  truncated_train_sequences = [(train_sequence[0:max_len] if len(train_sequence) > max_len else train_sequence) for train_sequence in train_sequences]\n",
    "  truncated_test_sequences = [(test_sequence[0:max_len] if len(test_sequence) > max_len else test_sequence) for test_sequence in test_sequences]\n",
    "\n",
    "\n",
    "  def gen_train_data():\n",
    "    for sequence, label in zip(truncated_train_sequences, train_labels):\n",
    "      yield (sequence, label)\n",
    "\n",
    "  def gen_test_data():\n",
    "    for sequence, label in zip(truncated_train_sequences, test_labels):\n",
    "      yield (sequence, label)\n",
    "\n",
    "\n",
    "  train_data = tf.data.Dataset.from_generator(gen_train_data, output_signature=(\n",
    "      tf.TensorSpec(shape=(None,), dtype=tf.int32),\n",
    "      tf.TensorSpec(shape=(), dtype=tf.int32)\n",
    "  )).shuffle(25000).padded_batch(batch_size)\n",
    "  #print(train_data)\n",
    "  #train_data = train_data.map(lambda seq_batch, lbl_batch: (tf.reverse(seq_batch, axis=1), lbl_batch)) # make reverse along time axis\n",
    "\n",
    "  test_data = tf.data.Dataset.from_generator(gen_test_data, output_signature=(\n",
    "      tf.TensorSpec(shape=(None,), dtype=tf.int32),\n",
    "      tf.TensorSpec(shape=(), dtype=tf.int32)\n",
    "  )).shuffle(25000).padded_batch(batch_size)\n",
    "  #test_data = test_data.map(lambda seq_batch, lbl_batch: (tf.reverse(seq_batch, axis=1), lbl_batch))\n",
    "\n",
    "  # Create Model\n",
    "  to_hidden = tfkl.Dense(hidden_size, activation=tf.nn.tanh)\n",
    "  to_output = tfkl.Dense(2 if use_softmax else 1)\n",
    "  to_hidden.build((None, num_words + hidden_size))\n",
    "  to_output.build((None, hidden_size))\n",
    "  # if we don't build the layers here, they have no weights :(\n",
    "  weights = to_hidden.trainable_variables + to_output.trainable_variables\n",
    "\n",
    "  loss_fn = tf.keras.losses.SparseCategoricalCrossentropy(from_logits=False) if use_softmax else tf.keras.losses.BinaryCrossentropy(from_logits=False)\n",
    "  # gradient clipping!\n",
    "  optimizer = tf.keras.optimizers.Adam(learning_rate, global_clipnorm=1.)\n",
    "\n",
    "  accuracy_metric = tf.keras.metrics.SparseCategoricalAccuracy() if use_softmax else tf.keras.metrics.BinaryAccuracy(threshold=0.)\n",
    "  loss_metric = tf.keras.metrics.SparseCategoricalCrossentropy(from_logits=False) if use_softmax else tf.keras.metrics.BinaryCrossentropy(from_logits=False)\n",
    "\n",
    "\n",
    "  train_losses = []\n",
    "  train_accs = []\n",
    "  test_losses = []\n",
    "  test_accs = []\n",
    "  for epoch in range(1, epochs+1):\n",
    "      loss_metric.reset_state()\n",
    "      accuracy_metric.reset_state()\n",
    "      for sequences, labels in train_data:\n",
    "          batch_loss = train_step(sequences, labels)\n",
    "\n",
    "\n",
    "      train_losses.append(loss_metric.result())\n",
    "      train_accs.append( accuracy_metric.result())\n",
    "\n",
    "      loss_metric.reset_state()\n",
    "      accuracy_metric.reset_state()\n",
    "\n",
    "      for sequences, labels in test_data:\n",
    "          logits = rnn_loop(sequences)\n",
    "          accuracy_metric(labels, logits)\n",
    "          loss_metric(labels, logits)\n",
    "\n",
    "      test_losses.append(loss_metric.result())\n",
    "      test_accs.append( accuracy_metric.result())\n",
    "\n",
    "\n",
    "      if shall_print_training_info:\n",
    "        print_training_info(epoch, train_losses[-1], train_accs[-1], test_losses[-1], test_accs[-1])\n",
    "\n",
    "  return (train_losses, train_accs, test_losses, test_accs)\n"
   ]
  },
  {
   "cell_type": "markdown",
   "id": "kprKdbZnVl07",
   "metadata": {
    "id": "kprKdbZnVl07"
   },
   "source": [
    "## Bucketing"
   ]
  },
  {
   "cell_type": "code",
   "execution_count": 13,
   "id": "QxkHmFyUVpTl",
   "metadata": {
    "id": "QxkHmFyUVpTl"
   },
   "outputs": [],
   "source": [
    "def model_bucketing():\n",
    "  max_len = 1000\n",
    "  buckets = [50, 100, 150, 200, 250, 300, 350, 400, 450, 500]\n",
    "  bucket_batch_size = [batch_size] * (len(buckets) + 1)\n",
    "\n",
    "  # sequences: batch_size, time_steps, values\n",
    "  @tf.function(jit_compile=False)\n",
    "  def rnn_loop(sequence_batch):\n",
    "    old_state = tf.zeros((tf.shape(sequence_batch)[0], hidden_size))  # initial state\n",
    "\n",
    "    for step in tf.range(tf.shape(sequence_batch)[1]):\n",
    "        x_t = sequence_batch[:, step]\n",
    "        x_t = tf.one_hot(x_t, depth=num_words)\n",
    "\n",
    "        concatenated = tf.concat((x_t, old_state), axis=-1)\n",
    "\n",
    "        new_state = to_hidden(concatenated)\n",
    "\n",
    "        old_state = new_state\n",
    "\n",
    "    o_t = to_output(new_state)\n",
    "\n",
    "    return o_t\n",
    "\n",
    "  @tf.function(jit_compile=False)\n",
    "  def train_step(sequence_batch, label_batch):\n",
    "    with tf.GradientTape() as tape:\n",
    "        logits = rnn_loop(sequence_batch)\n",
    "        loss = loss_fn(label_batch, logits)\n",
    "\n",
    "    gradients = tape.gradient(loss, weights)\n",
    "    optimizer.apply_gradients(zip(gradients, weights))\n",
    "\n",
    "    accuracy_metric(label_batch, logits)\n",
    "    loss_metric(label_batch, logits)\n",
    "\n",
    "    return loss\n",
    "\n",
    "  truncated_train_sequences = [(train_sequence[0:max_len] if len(train_sequence) > max_len else train_sequence) for train_sequence in train_sequences]\n",
    "  truncated_test_sequences = [(test_sequence[0:max_len] if len(test_sequence) > max_len else test_sequence) for test_sequence in test_sequences]\n",
    "\n",
    "  def gen_train_data():\n",
    "    for sequence, label in zip(truncated_train_sequences, train_labels):\n",
    "      yield (sequence, label)\n",
    "\n",
    "  def gen_test_data():\n",
    "    for sequence, label in zip(truncated_train_sequences, test_labels):\n",
    "      yield (sequence, label)\n",
    "\n",
    "  train_data = tf.data.Dataset.from_generator(gen_train_data, output_signature=(\n",
    "      tf.TensorSpec(shape=(None,), dtype=tf.int32),\n",
    "      tf.TensorSpec(shape=(), dtype=tf.int32)\n",
    "  )).bucket_by_sequence_length(\n",
    "      lambda sequence, label: tf.shape(sequence)[0],\n",
    "      bucket_boundaries=buckets,\n",
    "      bucket_batch_sizes=bucket_batch_size\n",
    "  )#.batch(batch_size)\n",
    "\n",
    "  test_data = tf.data.Dataset.from_generator(gen_test_data, output_signature=(\n",
    "      tf.TensorSpec(shape=(None,), dtype=tf.int32),\n",
    "      tf.TensorSpec(shape=(), dtype=tf.int32)\n",
    "  )).bucket_by_sequence_length(\n",
    "      lambda sequence, label: tf.shape(sequence)[0],\n",
    "      bucket_boundaries=buckets,\n",
    "      bucket_batch_sizes=bucket_batch_size\n",
    "  )#.batch(batch_size)\n",
    "\n",
    "\n",
    "  # create model\n",
    "  to_hidden = tfkl.Dense(hidden_size, activation=tf.nn.tanh)\n",
    "  to_output = tfkl.Dense(2 if use_softmax else 1)\n",
    "  to_hidden.build((None, num_words + hidden_size))\n",
    "  to_output.build((None, hidden_size))\n",
    "  # if we don't build the layers here, they have no weights :(\n",
    "  weights = to_hidden.trainable_variables + to_output.trainable_variables\n",
    "\n",
    "  loss_fn = tf.keras.losses.SparseCategoricalCrossentropy(from_logits=False) if use_softmax else tf.keras.losses.BinaryCrossentropy(from_logits=False)\n",
    "  # gradient clipping!\n",
    "  optimizer = tf.keras.optimizers.Adam(learning_rate, global_clipnorm=1.)\n",
    "\n",
    "  accuracy_metric = tf.keras.metrics.SparseCategoricalAccuracy() if use_softmax else tf.keras.metrics.BinaryAccuracy(threshold=0.)\n",
    "  loss_metric = tf.keras.metrics.SparseCategoricalCrossentropy(from_logits=False) if use_softmax else tf.keras.metrics.BinaryCrossentropy(from_logits=False)\n",
    "\n",
    "\n",
    "  train_losses = []\n",
    "  train_accs = []\n",
    "  test_losses = []\n",
    "  test_accs = []\n",
    "  for epoch in range(1, epochs+1):\n",
    "      loss_metric.reset_state()\n",
    "      accuracy_metric.reset_state()\n",
    "      for sequences, labels in train_data:\n",
    "        batch_loss = train_step(sequences, labels)\n",
    "\n",
    "\n",
    "      train_losses.append(loss_metric.result())\n",
    "      train_accs.append( accuracy_metric.result())\n",
    "\n",
    "      accuracy_metric.reset_state()\n",
    "      loss_metric.reset_state()\n",
    "\n",
    "      for sequences, labels in test_data:\n",
    "        logits = rnn_loop(sequences)\n",
    "        accuracy_metric(labels, logits)\n",
    "        loss_metric(labels, logits)\n",
    "\n",
    "      test_losses.append(loss_metric.result())\n",
    "      test_accs.append( accuracy_metric.result())\n",
    "\n",
    "      if shall_print_training_info:\n",
    "        print_training_info(epoch, train_losses[-1], train_accs[-1], test_losses[-1], test_accs[-1])\n",
    "\n",
    "  return (train_losses, train_accs, test_losses, test_accs)\n"
   ]
  },
  {
   "cell_type": "markdown",
   "id": "U14YAI1ha45v",
   "metadata": {
    "id": "U14YAI1ha45v"
   },
   "source": [
    "## Embedding with Masking"
   ]
  },
  {
   "cell_type": "code",
   "execution_count": 63,
   "id": "F2ASiPu9a69u",
   "metadata": {
    "id": "F2ASiPu9a69u"
   },
   "outputs": [],
   "source": [
    "def model_embedding_with_masking():\n",
    "  embedding_dim = 20\n",
    "  max_len = 200\n",
    "\n",
    "\n",
    "  # if you wanna see a more low-level one, it's at the bottom of the notebook.\n",
    "  # sequences: batch_size, time_steps, values\n",
    "  #@tf.function(jit_compile=False)\n",
    "  def rnn_loop(sequence_batch):\n",
    "    old_state = tf.zeros((tf.shape(sequence_batch)[0], hidden_size))  # initial state\n",
    "\n",
    "    for step in tf.range(max_len):\n",
    "      x_t = sequence_batch[:, step]\n",
    "      \"\"\"this has changed -> no one_hot necessary\"\"\"\n",
    "      concatenated = tf.concat((x_t, old_state), axis=-1)\n",
    "\n",
    "      new_state = to_hidden(concatenated)\n",
    "\n",
    "      old_state = new_state\n",
    "\n",
    "    o_t = to_output(new_state)\n",
    "\n",
    "    return o_t\n",
    "\n",
    "  #@tf.function(jit_compile=False)\n",
    "  def train_step(sequence_batch, label_batch):\n",
    "    with tf.GradientTape() as tape:\n",
    "      \"\"\"this has changed\"\"\"\n",
    "      # embed the sequence_batch\n",
    "      sequence_batch = embedding_layer(sequence_batch)\n",
    "      # normal stuff\n",
    "      logits = rnn_loop(sequence_batch)\n",
    "      loss = loss_fn(label_batch, logits)\n",
    "\n",
    "    gradients = tape.gradient(loss, weights)\n",
    "    optimizer.apply_gradients(zip(gradients, weights))\n",
    "\n",
    "    accuracy_metric(label_batch, logits)\n",
    "    loss_metric(label_batch, logits)\n",
    "\n",
    "    return loss\n",
    "\n",
    "\n",
    "  # luckily there is a convenient function for padding\n",
    "  train_sequences_padded = tf.keras.preprocessing.sequence.pad_sequences(train_sequences, maxlen=max_len)\n",
    "  test_sequences_padded = tf.keras.preprocessing.sequence.pad_sequences(test_sequences, maxlen=max_len)\n",
    "\n",
    "  train_data = tf.data.Dataset.from_tensor_slices((train_sequences_padded, train_labels)).shuffle(25000).batch(batch_size, drop_remainder=True)\n",
    "  test_data = tf.data.Dataset.from_tensor_slices((test_sequences_padded, test_labels)).batch(batch_size, drop_remainder=True)\n",
    "\n",
    "\n",
    "  # create model\n",
    "  embedding_layer = tfkl.Embedding(num_words, embedding_dim, mask_zero=True)\n",
    "  to_hidden = tfkl.Dense(hidden_size, activation=tf.nn.tanh)\n",
    "  to_output = tfkl.Dense(2 if use_softmax else 1)\n",
    "  \"\"\"this has changed\"\"\"\n",
    "  to_hidden.build((None, embedding_dim + hidden_size))\n",
    "  to_output.build((None, hidden_size))\n",
    "  # if we don't build the layers here, they have no weights :(\n",
    "  weights = to_hidden.trainable_variables + to_output.trainable_variables\n",
    "\n",
    "  loss_fn = tf.keras.losses.SparseCategoricalCrossentropy(from_logits=False) if use_softmax else tf.keras.losses.BinaryCrossentropy(from_logits=False)\n",
    "  # gradient clipping!\n",
    "  optimizer = tf.keras.optimizers.Adam(learning_rate, global_clipnorm=1.)\n",
    "\n",
    "  accuracy_metric = tf.keras.metrics.SparseCategoricalAccuracy() if use_softmax else tf.keras.metrics.BinaryAccuracy(threshold=0.)\n",
    "  loss_metric = tf.keras.metrics.SparseCategoricalCrossentropy(from_logits=False) if use_softmax else tf.keras.metrics.BinaryCrossentropy(from_logits=False)\n",
    "\n",
    "  train_losses = []\n",
    "  train_accs = []\n",
    "  test_losses = []\n",
    "  test_accs = []\n",
    "  for epoch in range(1, epochs+1):\n",
    "      loss_metric.reset_state()\n",
    "      accuracy_metric.reset_state()\n",
    "      for sequences, labels in train_data:\n",
    "          batch_loss = train_step(sequences, labels)\n",
    "\n",
    "      train_losses.append(loss_metric.result())\n",
    "      train_accs.append(accuracy_metric.result())\n",
    "\n",
    "      loss_metric.reset_state()\n",
    "      accuracy_metric.reset_state()\n",
    "      for sequences, labels in test_data:\n",
    "          logits = rnn_loop(sequences)\n",
    "          accuracy_metric(labels, logits)\n",
    "          loss_metric(labels, logits)\n",
    "\n",
    "      test_losses.append(loss_metric.result())\n",
    "      test_accs.append( accuracy_metric.result())\n",
    "\n",
    "      if shall_print_training_info:\n",
    "        print_training_info(epoch, train_losses[-1], train_accs[-1], test_losses[-1], test_accs[-1])\n",
    "\n",
    "  return (train_losses, train_accs, test_losses, test_accs)\n"
   ]
  },
  {
   "cell_type": "markdown",
   "id": "cwSuZB2ZoWPY",
   "metadata": {
    "id": "cwSuZB2ZoWPY"
   },
   "source": [
    "## Embedding using keras layers"
   ]
  },
  {
   "cell_type": "code",
   "execution_count": 72,
   "id": "8dvokyMSoZmE",
   "metadata": {
    "id": "8dvokyMSoZmE"
   },
   "outputs": [],
   "source": [
    "def model_embedding_keras():\n",
    "  embedding_dim = 20\n",
    "  max_len=200\n",
    "\n",
    "  model = tf.keras.Sequential([tfkl.Embedding(num_words, embedding_dim, mask_zero=True),\n",
    "                              tfkl.SimpleRNN(hidden_size//2, return_sequences=False),\n",
    "                              tfkl.Dense(2 if use_softmax else 1)])\n",
    "\n",
    "  model.compile(\n",
    "        loss=tf.keras.losses.SparseCategoricalCrossentropy(from_logits=False) if use_softmax else tf.keras.losses.BinaryCrossentropy(from_logits=False),\n",
    "        optimizer=tf.keras.optimizers.Adam(learning_rate, global_clipnorm=1.),\n",
    "        metrics=[\n",
    "            tf.keras.metrics.SparseCategoricalAccuracy() if use_softmax else tf.keras.metrics.BinaryAccuracy(threshold=0.),\n",
    "            tf.keras.metrics.SparseCategoricalCrossentropy(from_logits=False) if use_softmax else tf.keras.metrics.BinaryCrossentropy(from_logits=False)\n",
    "          ]\n",
    "      )\n",
    "\n",
    "  # luckily there is a convenient function for padding\n",
    "  train_sequences_padded = tf.keras.preprocessing.sequence.pad_sequences(train_sequences, maxlen=max_len)\n",
    "  test_sequences_padded = tf.keras.preprocessing.sequence.pad_sequences(test_sequences, maxlen=max_len)\n",
    "\n",
    "  train_data = tf.data.Dataset.from_tensor_slices((train_sequences_padded, train_labels)).shuffle(25000).batch(batch_size)\n",
    "  test_data = tf.data.Dataset.from_tensor_slices((test_sequences_padded, test_labels)).batch(batch_size)\n",
    "\n",
    "  # training\n",
    "  model.fit(train_data, epochs=10)\n",
    "  # testing\n",
    "  model.evaluate(test_data)"
   ]
  },
  {
   "cell_type": "markdown",
   "id": "Vyjj7gjfv71j",
   "metadata": {
    "id": "Vyjj7gjfv71j"
   },
   "source": [
    "## LSTM"
   ]
  },
  {
   "cell_type": "code",
   "execution_count": 77,
   "id": "HiV7zeCFv-mc",
   "metadata": {
    "id": "HiV7zeCFv-mc"
   },
   "outputs": [],
   "source": [
    "def model_LSTM():\n",
    "  embedding_dim = 20\n",
    "  max_len=200\n",
    "\n",
    "  model = tf.keras.Sequential([tfkl.Embedding(num_words, embedding_dim, mask_zero=True),\n",
    "                              tfkl.LSTM(32),\n",
    "                              tfkl.Dense(2 if use_softmax else 1)])\n",
    "\n",
    "  model.compile(\n",
    "        loss=tf.keras.losses.SparseCategoricalCrossentropy(from_logits=False) if use_softmax else tf.keras.losses.BinaryCrossentropy(from_logits=False),\n",
    "        optimizer=tf.keras.optimizers.Adam(learning_rate, global_clipnorm=1.),\n",
    "        metrics=[\n",
    "            tf.keras.metrics.SparseCategoricalAccuracy() if use_softmax else tf.keras.metrics.BinaryAccuracy(threshold=0.),\n",
    "            tf.keras.metrics.SparseCategoricalCrossentropy(from_logits=False) if use_softmax else tf.keras.metrics.BinaryCrossentropy(from_logits=False)\n",
    "          ]\n",
    "      )\n",
    "\n",
    "  # luckily there is a convenient function for padding\n",
    "  train_sequences_padded = tf.keras.preprocessing.sequence.pad_sequences(train_sequences, maxlen=max_len)\n",
    "  test_sequences_padded = tf.keras.preprocessing.sequence.pad_sequences(test_sequences, maxlen=max_len)\n",
    "\n",
    "  train_data = tf.data.Dataset.from_tensor_slices((train_sequences_padded, train_labels)).shuffle(25000).batch(batch_size)\n",
    "  test_data = tf.data.Dataset.from_tensor_slices((test_sequences_padded, test_labels)).batch(batch_size)\n",
    "\n",
    "  # training\n",
    "  model.fit(train_data, epochs=10)\n",
    "  # testing\n",
    "  model.evaluate(test_data)"
   ]
  },
  {
   "cell_type": "markdown",
   "id": "P-8O2DKVNfWe",
   "metadata": {
    "id": "P-8O2DKVNfWe"
   },
   "source": [
    "## Training the Models"
   ]
  },
  {
   "cell_type": "code",
   "execution_count": 7,
   "id": "2tsdVbiMN9nJ",
   "metadata": {
    "id": "2tsdVbiMN9nJ"
   },
   "outputs": [],
   "source": [
    "training_results = {}"
   ]
  },
  {
   "cell_type": "markdown",
   "id": "CVCiPNt1NiR9",
   "metadata": {
    "id": "CVCiPNt1NiR9"
   },
   "source": [
    "### Reference Model"
   ]
  },
  {
   "cell_type": "code",
   "execution_count": 7,
   "id": "AealeD3aNkRB",
   "metadata": {
    "colab": {
     "base_uri": "https://localhost:8080/"
    },
    "id": "AealeD3aNkRB",
    "outputId": "bc1c5c1b-4cff-40f5-e402-f8a6535b908a"
   },
   "outputs": [
    {
     "name": "stdout",
     "output_type": "stream",
     "text": [
      "Epoch: 1\n",
      "\tTraining loss: 0.980987012386322\n",
      "\tTraining accuracy: 0.578279972076416\n",
      "\tTest loss: 0.611475944519043\n",
      "\tTest accuracy: 0.6271600127220154\n",
      "-------------------------------------------------------------\n",
      "Epoch: 2\n",
      "\tTraining loss: 0.9504013657569885\n",
      "\tTraining accuracy: 0.6641600131988525\n",
      "\tTest loss: 0.5477195382118225\n",
      "\tTest accuracy: 0.6514000296592712\n",
      "-------------------------------------------------------------\n",
      "Epoch: 3\n",
      "\tTraining loss: 0.7999992966651917\n",
      "\tTraining accuracy: 0.7162799835205078\n",
      "\tTest loss: 1.3946300745010376\n",
      "\tTest accuracy: 0.7212399840354919\n",
      "-------------------------------------------------------------\n",
      "Epoch: 4\n",
      "\tTraining loss: 0.7082809805870056\n",
      "\tTraining accuracy: 0.7352799773216248\n",
      "\tTest loss: 0.7872530817985535\n",
      "\tTest accuracy: 0.7567999958992004\n",
      "-------------------------------------------------------------\n",
      "Epoch: 5\n",
      "\tTraining loss: 0.4774205982685089\n",
      "\tTraining accuracy: 0.7815999984741211\n",
      "\tTest loss: 1.3988275527954102\n",
      "\tTest accuracy: 0.7381600141525269\n",
      "-------------------------------------------------------------\n",
      "Epoch: 6\n",
      "\tTraining loss: 0.5032708048820496\n",
      "\tTraining accuracy: 0.8091199994087219\n",
      "\tTest loss: 1.0897973775863647\n",
      "\tTest accuracy: 0.7725600004196167\n",
      "-------------------------------------------------------------\n",
      "Epoch: 7\n",
      "\tTraining loss: 0.5725283026695251\n",
      "\tTraining accuracy: 0.8160799741744995\n",
      "\tTest loss: 1.457351803779602\n",
      "\tTest accuracy: 0.7760400176048279\n",
      "-------------------------------------------------------------\n",
      "Epoch: 8\n",
      "\tTraining loss: 0.43597280979156494\n",
      "\tTraining accuracy: 0.8524799942970276\n",
      "\tTest loss: 1.0909931659698486\n",
      "\tTest accuracy: 0.7835999727249146\n",
      "-------------------------------------------------------------\n",
      "Epoch: 9\n",
      "\tTraining loss: 0.37512463331222534\n",
      "\tTraining accuracy: 0.8719199895858765\n",
      "\tTest loss: 1.2759431600570679\n",
      "\tTest accuracy: 0.7978399991989136\n",
      "-------------------------------------------------------------\n",
      "Epoch: 10\n",
      "\tTraining loss: 0.3682950735092163\n",
      "\tTraining accuracy: 0.8931999802589417\n",
      "\tTest loss: 1.2307190895080566\n",
      "\tTest accuracy: 0.782480001449585\n",
      "-------------------------------------------------------------\n"
     ]
    }
   ],
   "source": [
    "training_results[\"Reference\"] =  model_reference()"
   ]
  },
  {
   "cell_type": "markdown",
   "id": "WRT3txEbNl-r",
   "metadata": {
    "id": "WRT3txEbNl-r"
   },
   "source": [
    "### Model with Within-Batch Padding"
   ]
  },
  {
   "cell_type": "code",
   "execution_count": 24,
   "id": "8DuPx25dNoZG",
   "metadata": {
    "colab": {
     "base_uri": "https://localhost:8080/"
    },
    "id": "8DuPx25dNoZG",
    "outputId": "8a25e5ca-36c0-46c9-b602-fa84e99478b9"
   },
   "outputs": [
    {
     "name": "stdout",
     "output_type": "stream",
     "text": [
      "Epoch: 1\n",
      "\tTraining loss: 0.8756100535392761\n",
      "\tTraining accuracy: 0.49959999322891235\n",
      "\tTest loss: 0.7015841603279114\n",
      "\tTest accuracy: 0.5\n",
      "-------------------------------------------------------------\n",
      "Epoch: 2\n",
      "\tTraining loss: 0.676755964756012\n",
      "\tTraining accuracy: 0.5018399953842163\n",
      "\tTest loss: 0.8787215352058411\n",
      "\tTest accuracy: 0.5008400082588196\n",
      "-------------------------------------------------------------\n",
      "Epoch: 3\n",
      "\tTraining loss: 0.6467297077178955\n",
      "\tTraining accuracy: 0.521120011806488\n",
      "\tTest loss: 1.2825336456298828\n",
      "\tTest accuracy: 0.5008800029754639\n",
      "-------------------------------------------------------------\n",
      "Epoch: 4\n",
      "\tTraining loss: 0.6257437467575073\n",
      "\tTraining accuracy: 0.5427200198173523\n",
      "\tTest loss: 1.5017198324203491\n",
      "\tTest accuracy: 0.5014399886131287\n",
      "-------------------------------------------------------------\n",
      "Epoch: 5\n",
      "\tTraining loss: 0.6151846051216125\n",
      "\tTraining accuracy: 0.5518800020217896\n",
      "\tTest loss: 1.571761131286621\n",
      "\tTest accuracy: 0.5013599991798401\n",
      "-------------------------------------------------------------\n",
      "Epoch: 6\n",
      "\tTraining loss: 0.608342170715332\n",
      "\tTraining accuracy: 0.5586000084877014\n",
      "\tTest loss: 1.5942915678024292\n",
      "\tTest accuracy: 0.5008800029754639\n",
      "-------------------------------------------------------------\n",
      "Epoch: 7\n",
      "\tTraining loss: 0.6397674679756165\n",
      "\tTraining accuracy: 0.5547599792480469\n",
      "\tTest loss: 1.6243633031845093\n",
      "\tTest accuracy: 0.5020400285720825\n",
      "-------------------------------------------------------------\n",
      "Epoch: 8\n",
      "\tTraining loss: 0.6078400611877441\n",
      "\tTraining accuracy: 0.557640016078949\n",
      "\tTest loss: 1.6402169466018677\n",
      "\tTest accuracy: 0.5023999810218811\n",
      "-------------------------------------------------------------\n",
      "Epoch: 9\n",
      "\tTraining loss: 0.602073609828949\n",
      "\tTraining accuracy: 0.5624799728393555\n",
      "\tTest loss: 1.6584076881408691\n",
      "\tTest accuracy: 0.5016400218009949\n",
      "-------------------------------------------------------------\n",
      "Epoch: 10\n",
      "\tTraining loss: 0.6040852665901184\n",
      "\tTraining accuracy: 0.563480019569397\n",
      "\tTest loss: 1.658432126045227\n",
      "\tTest accuracy: 0.5019199848175049\n",
      "-------------------------------------------------------------\n"
     ]
    }
   ],
   "source": [
    "training_results[\"Within-Batch Padding\"] =  model_within_batch_padding()"
   ]
  },
  {
   "cell_type": "markdown",
   "id": "xk39CsRMIrq4",
   "metadata": {
    "id": "xk39CsRMIrq4"
   },
   "source": [
    "### Bucketing"
   ]
  },
  {
   "cell_type": "code",
   "execution_count": 14,
   "id": "zuIyWAeVIztW",
   "metadata": {
    "colab": {
     "base_uri": "https://localhost:8080/"
    },
    "id": "zuIyWAeVIztW",
    "outputId": "5d2d0d75-b34b-423e-c4e1-3782b97b859b"
   },
   "outputs": [
    {
     "name": "stdout",
     "output_type": "stream",
     "text": [
      "Epoch: 1\n",
      "\tTraining loss: 0.7539743185043335\n",
      "\tTraining accuracy: 0.5003200173377991\n",
      "\tTest loss: 0.6956998109817505\n",
      "\tTest accuracy: 0.5001199841499329\n",
      "-------------------------------------------------------------\n",
      "Epoch: 2\n",
      "\tTraining loss: 0.685017466545105\n",
      "\tTraining accuracy: 0.5012000203132629\n",
      "\tTest loss: 0.8666557669639587\n",
      "\tTest accuracy: 0.5009999871253967\n",
      "-------------------------------------------------------------\n",
      "Epoch: 3\n",
      "\tTraining loss: 0.6745905876159668\n",
      "\tTraining accuracy: 0.5107600092887878\n",
      "\tTest loss: 0.9289073348045349\n",
      "\tTest accuracy: 0.5012000203132629\n",
      "-------------------------------------------------------------\n",
      "Epoch: 4\n",
      "\tTraining loss: 0.66673743724823\n",
      "\tTraining accuracy: 0.5185999870300293\n",
      "\tTest loss: 0.9567146897315979\n",
      "\tTest accuracy: 0.500760018825531\n",
      "-------------------------------------------------------------\n",
      "Epoch: 5\n",
      "\tTraining loss: 0.6681495904922485\n",
      "\tTraining accuracy: 0.5200799703598022\n",
      "\tTest loss: 1.090299129486084\n",
      "\tTest accuracy: 0.5006800293922424\n",
      "-------------------------------------------------------------\n",
      "Epoch: 6\n",
      "\tTraining loss: 4.432122230529785\n",
      "\tTraining accuracy: 0.5095999836921692\n",
      "\tTest loss: 7.7633748054504395\n",
      "\tTest accuracy: 0.4984000027179718\n",
      "-------------------------------------------------------------\n",
      "Epoch: 7\n",
      "\tTraining loss: 7.698035717010498\n",
      "\tTraining accuracy: 0.49751999974250793\n",
      "\tTest loss: 7.75686502456665\n",
      "\tTest accuracy: 0.49876001477241516\n",
      "-------------------------------------------------------------\n",
      "Epoch: 8\n",
      "\tTraining loss: 7.697429656982422\n",
      "\tTraining accuracy: 0.4975599944591522\n",
      "\tTest loss: 7.75686502456665\n",
      "\tTest accuracy: 0.49876001477241516\n",
      "-------------------------------------------------------------\n",
      "Epoch: 9\n",
      "\tTraining loss: 7.697429656982422\n",
      "\tTraining accuracy: 0.4975599944591522\n",
      "\tTest loss: 7.75686502456665\n",
      "\tTest accuracy: 0.49876001477241516\n",
      "-------------------------------------------------------------\n",
      "Epoch: 10\n",
      "\tTraining loss: 7.697429656982422\n",
      "\tTraining accuracy: 0.4975599944591522\n",
      "\tTest loss: 7.75686502456665\n",
      "\tTest accuracy: 0.49876001477241516\n",
      "-------------------------------------------------------------\n"
     ]
    }
   ],
   "source": [
    "training_results[\"Bucketing\"] =  model_bucketing()"
   ]
  },
  {
   "cell_type": "markdown",
   "id": "mF-yw-LscRrV",
   "metadata": {
    "id": "mF-yw-LscRrV"
   },
   "source": [
    "### Embedding with Masking"
   ]
  },
  {
   "cell_type": "code",
   "execution_count": 64,
   "id": "wxFPK4dYcWuy",
   "metadata": {
    "colab": {
     "base_uri": "https://localhost:8080/",
     "height": 360
    },
    "id": "wxFPK4dYcWuy",
    "outputId": "e2d013e9-9bd9-4063-c464-ef3c7818d464"
   },
   "outputs": [
    {
     "name": "stderr",
     "output_type": "stream",
     "text": [
      "WARNING:tensorflow:5 out of the last 265 calls to <function _BaseOptimizer._update_step_xla at 0x7b4ff834f0a0> triggered tf.function retracing. Tracing is expensive and the excessive number of tracings could be due to (1) creating @tf.function repeatedly in a loop, (2) passing tensors with different shapes, (3) passing Python objects instead of tensors. For (1), please define your @tf.function outside of the loop. For (2), @tf.function has reduce_retracing=True option that can avoid unnecessary retracing. For (3), please refer to https://www.tensorflow.org/guide/function#controlling_retracing and https://www.tensorflow.org/api_docs/python/tf/function for  more details.\n"
     ]
    },
    {
     "ename": "InvalidArgumentError",
     "evalue": "ignored",
     "output_type": "error",
     "traceback": [
      "\u001b[0;31m---------------------------------------------------------------------------\u001b[0m",
      "\u001b[0;31mInvalidArgumentError\u001b[0m                      Traceback (most recent call last)",
      "\u001b[0;32m<ipython-input-64-6101ed3fcb8c>\u001b[0m in \u001b[0;36m<cell line: 1>\u001b[0;34m()\u001b[0m\n\u001b[0;32m----> 1\u001b[0;31m \u001b[0mtraining_results\u001b[0m\u001b[0;34m[\u001b[0m\u001b[0;34m\"Embedding with Masking\"\u001b[0m\u001b[0;34m]\u001b[0m \u001b[0;34m=\u001b[0m  \u001b[0mmodel_embedding_with_masking\u001b[0m\u001b[0;34m(\u001b[0m\u001b[0;34m)\u001b[0m\u001b[0;34m\u001b[0m\u001b[0;34m\u001b[0m\u001b[0m\n\u001b[0m",
      "\u001b[0;32m<ipython-input-63-411eecfdb397>\u001b[0m in \u001b[0;36mmodel_embedding_with_masking\u001b[0;34m()\u001b[0m\n\u001b[1;32m     83\u001b[0m       \u001b[0maccuracy_metric\u001b[0m\u001b[0;34m.\u001b[0m\u001b[0mreset_state\u001b[0m\u001b[0;34m(\u001b[0m\u001b[0;34m)\u001b[0m\u001b[0;34m\u001b[0m\u001b[0;34m\u001b[0m\u001b[0m\n\u001b[1;32m     84\u001b[0m       \u001b[0;32mfor\u001b[0m \u001b[0msequences\u001b[0m\u001b[0;34m,\u001b[0m \u001b[0mlabels\u001b[0m \u001b[0;32min\u001b[0m \u001b[0mtest_data\u001b[0m\u001b[0;34m:\u001b[0m\u001b[0;34m\u001b[0m\u001b[0;34m\u001b[0m\u001b[0m\n\u001b[0;32m---> 85\u001b[0;31m           \u001b[0mlogits\u001b[0m \u001b[0;34m=\u001b[0m \u001b[0mrnn_loop\u001b[0m\u001b[0;34m(\u001b[0m\u001b[0msequences\u001b[0m\u001b[0;34m)\u001b[0m\u001b[0;34m\u001b[0m\u001b[0;34m\u001b[0m\u001b[0m\n\u001b[0m\u001b[1;32m     86\u001b[0m           \u001b[0maccuracy_metric\u001b[0m\u001b[0;34m(\u001b[0m\u001b[0mlabels\u001b[0m\u001b[0;34m,\u001b[0m \u001b[0mlogits\u001b[0m\u001b[0;34m)\u001b[0m\u001b[0;34m\u001b[0m\u001b[0;34m\u001b[0m\u001b[0m\n\u001b[1;32m     87\u001b[0m           \u001b[0mloss_metric\u001b[0m\u001b[0;34m(\u001b[0m\u001b[0mlabels\u001b[0m\u001b[0;34m,\u001b[0m \u001b[0mlogits\u001b[0m\u001b[0;34m)\u001b[0m\u001b[0;34m\u001b[0m\u001b[0;34m\u001b[0m\u001b[0m\n",
      "\u001b[0;32m<ipython-input-63-411eecfdb397>\u001b[0m in \u001b[0;36mrnn_loop\u001b[0;34m(sequence_batch)\u001b[0m\n\u001b[1;32m     13\u001b[0m       \u001b[0mx_t\u001b[0m \u001b[0;34m=\u001b[0m \u001b[0msequence_batch\u001b[0m\u001b[0;34m[\u001b[0m\u001b[0;34m:\u001b[0m\u001b[0;34m,\u001b[0m \u001b[0mstep\u001b[0m\u001b[0;34m]\u001b[0m\u001b[0;34m\u001b[0m\u001b[0;34m\u001b[0m\u001b[0m\n\u001b[1;32m     14\u001b[0m       \u001b[0;34m\"\"\"this has changed -> no one_hot necessary\"\"\"\u001b[0m\u001b[0;34m\u001b[0m\u001b[0;34m\u001b[0m\u001b[0m\n\u001b[0;32m---> 15\u001b[0;31m       \u001b[0mconcatenated\u001b[0m \u001b[0;34m=\u001b[0m \u001b[0mtf\u001b[0m\u001b[0;34m.\u001b[0m\u001b[0mconcat\u001b[0m\u001b[0;34m(\u001b[0m\u001b[0;34m(\u001b[0m\u001b[0mx_t\u001b[0m\u001b[0;34m,\u001b[0m \u001b[0mold_state\u001b[0m\u001b[0;34m)\u001b[0m\u001b[0;34m,\u001b[0m \u001b[0maxis\u001b[0m\u001b[0;34m=\u001b[0m\u001b[0;34m-\u001b[0m\u001b[0;36m1\u001b[0m\u001b[0;34m)\u001b[0m\u001b[0;34m\u001b[0m\u001b[0;34m\u001b[0m\u001b[0m\n\u001b[0m\u001b[1;32m     16\u001b[0m \u001b[0;34m\u001b[0m\u001b[0m\n\u001b[1;32m     17\u001b[0m       \u001b[0mnew_state\u001b[0m \u001b[0;34m=\u001b[0m \u001b[0mto_hidden\u001b[0m\u001b[0;34m(\u001b[0m\u001b[0mconcatenated\u001b[0m\u001b[0;34m)\u001b[0m\u001b[0;34m\u001b[0m\u001b[0;34m\u001b[0m\u001b[0m\n",
      "\u001b[0;32m/usr/local/lib/python3.10/dist-packages/tensorflow/python/util/traceback_utils.py\u001b[0m in \u001b[0;36merror_handler\u001b[0;34m(*args, **kwargs)\u001b[0m\n\u001b[1;32m    151\u001b[0m     \u001b[0;32mexcept\u001b[0m \u001b[0mException\u001b[0m \u001b[0;32mas\u001b[0m \u001b[0me\u001b[0m\u001b[0;34m:\u001b[0m\u001b[0;34m\u001b[0m\u001b[0;34m\u001b[0m\u001b[0m\n\u001b[1;32m    152\u001b[0m       \u001b[0mfiltered_tb\u001b[0m \u001b[0;34m=\u001b[0m \u001b[0m_process_traceback_frames\u001b[0m\u001b[0;34m(\u001b[0m\u001b[0me\u001b[0m\u001b[0;34m.\u001b[0m\u001b[0m__traceback__\u001b[0m\u001b[0;34m)\u001b[0m\u001b[0;34m\u001b[0m\u001b[0;34m\u001b[0m\u001b[0m\n\u001b[0;32m--> 153\u001b[0;31m       \u001b[0;32mraise\u001b[0m \u001b[0me\u001b[0m\u001b[0;34m.\u001b[0m\u001b[0mwith_traceback\u001b[0m\u001b[0;34m(\u001b[0m\u001b[0mfiltered_tb\u001b[0m\u001b[0;34m)\u001b[0m \u001b[0;32mfrom\u001b[0m \u001b[0;32mNone\u001b[0m\u001b[0;34m\u001b[0m\u001b[0;34m\u001b[0m\u001b[0m\n\u001b[0m\u001b[1;32m    154\u001b[0m     \u001b[0;32mfinally\u001b[0m\u001b[0;34m:\u001b[0m\u001b[0;34m\u001b[0m\u001b[0;34m\u001b[0m\u001b[0m\n\u001b[1;32m    155\u001b[0m       \u001b[0;32mdel\u001b[0m \u001b[0mfiltered_tb\u001b[0m\u001b[0;34m\u001b[0m\u001b[0;34m\u001b[0m\u001b[0m\n",
      "\u001b[0;32m/usr/local/lib/python3.10/dist-packages/tensorflow/python/framework/ops.py\u001b[0m in \u001b[0;36mraise_from_not_ok_status\u001b[0;34m(e, name)\u001b[0m\n\u001b[1;32m   5886\u001b[0m \u001b[0;32mdef\u001b[0m \u001b[0mraise_from_not_ok_status\u001b[0m\u001b[0;34m(\u001b[0m\u001b[0me\u001b[0m\u001b[0;34m,\u001b[0m \u001b[0mname\u001b[0m\u001b[0;34m)\u001b[0m \u001b[0;34m->\u001b[0m \u001b[0mNoReturn\u001b[0m\u001b[0;34m:\u001b[0m\u001b[0;34m\u001b[0m\u001b[0;34m\u001b[0m\u001b[0m\n\u001b[1;32m   5887\u001b[0m   \u001b[0me\u001b[0m\u001b[0;34m.\u001b[0m\u001b[0mmessage\u001b[0m \u001b[0;34m+=\u001b[0m \u001b[0;34m(\u001b[0m\u001b[0;34m\" name: \"\u001b[0m \u001b[0;34m+\u001b[0m \u001b[0mstr\u001b[0m\u001b[0;34m(\u001b[0m\u001b[0mname\u001b[0m \u001b[0;32mif\u001b[0m \u001b[0mname\u001b[0m \u001b[0;32mis\u001b[0m \u001b[0;32mnot\u001b[0m \u001b[0;32mNone\u001b[0m \u001b[0;32melse\u001b[0m \u001b[0;34m\"\"\u001b[0m\u001b[0;34m)\u001b[0m\u001b[0;34m)\u001b[0m\u001b[0;34m\u001b[0m\u001b[0;34m\u001b[0m\u001b[0m\n\u001b[0;32m-> 5888\u001b[0;31m   \u001b[0;32mraise\u001b[0m \u001b[0mcore\u001b[0m\u001b[0;34m.\u001b[0m\u001b[0m_status_to_exception\u001b[0m\u001b[0;34m(\u001b[0m\u001b[0me\u001b[0m\u001b[0;34m)\u001b[0m \u001b[0;32mfrom\u001b[0m \u001b[0;32mNone\u001b[0m  \u001b[0;31m# pylint: disable=protected-access\u001b[0m\u001b[0;34m\u001b[0m\u001b[0;34m\u001b[0m\u001b[0m\n\u001b[0m\u001b[1;32m   5889\u001b[0m \u001b[0;34m\u001b[0m\u001b[0m\n\u001b[1;32m   5890\u001b[0m \u001b[0;34m\u001b[0m\u001b[0m\n",
      "\u001b[0;31mInvalidArgumentError\u001b[0m: cannot compute ConcatV2 as input #1(zero-based) was expected to be a int32 tensor but is a float tensor [Op:ConcatV2] name: concat"
     ]
    }
   ],
   "source": [
    "training_results[\"Embedding with Masking\"] =  model_embedding_with_masking()"
   ]
  },
  {
   "cell_type": "markdown",
   "id": "4eGfmaIknzft",
   "metadata": {
    "id": "4eGfmaIknzft"
   },
   "source": [
    "- for some reason the Embedding layer sometimes gives tensors of shape (batch_size, ) instead of (batch_size, embedding_dim)\n",
    "- therefore it crashes sometimes\n",
    "- thought that graph execution is the problem, but in eager execution it fails too"
   ]
  },
  {
   "cell_type": "markdown",
   "id": "oV8pQIAcoPSo",
   "metadata": {
    "id": "oV8pQIAcoPSo"
   },
   "source": [
    "### Embedding using keras layers"
   ]
  },
  {
   "cell_type": "code",
   "execution_count": 73,
   "id": "GiYhaXhNoUEB",
   "metadata": {
    "colab": {
     "base_uri": "https://localhost:8080/"
    },
    "id": "GiYhaXhNoUEB",
    "outputId": "c6a635fa-cf8c-484a-fcbb-85a075f05d4f"
   },
   "outputs": [
    {
     "name": "stdout",
     "output_type": "stream",
     "text": [
      "Epoch 1/10\n",
      "196/196 [==============================] - 80s 398ms/step - loss: 0.8471 - binary_accuracy: 0.5167 - binary_crossentropy: 0.8471\n",
      "Epoch 2/10\n",
      "196/196 [==============================] - 63s 321ms/step - loss: 0.6685 - binary_accuracy: 0.6585 - binary_crossentropy: 0.6685\n",
      "Epoch 3/10\n",
      "196/196 [==============================] - 62s 315ms/step - loss: 0.5549 - binary_accuracy: 0.7528 - binary_crossentropy: 0.5549\n",
      "Epoch 4/10\n",
      "196/196 [==============================] - 60s 307ms/step - loss: 0.5327 - binary_accuracy: 0.7982 - binary_crossentropy: 0.5327\n",
      "Epoch 5/10\n",
      "196/196 [==============================] - 64s 329ms/step - loss: 0.4578 - binary_accuracy: 0.8194 - binary_crossentropy: 0.4578\n",
      "Epoch 6/10\n",
      "196/196 [==============================] - 58s 298ms/step - loss: 0.3706 - binary_accuracy: 0.8274 - binary_crossentropy: 0.3706\n",
      "Epoch 7/10\n",
      "196/196 [==============================] - 59s 300ms/step - loss: 0.3077 - binary_accuracy: 0.8745 - binary_crossentropy: 0.3077\n",
      "Epoch 8/10\n",
      "196/196 [==============================] - 59s 301ms/step - loss: 0.3280 - binary_accuracy: 0.8888 - binary_crossentropy: 0.3280\n",
      "Epoch 9/10\n",
      "196/196 [==============================] - 63s 317ms/step - loss: 0.2734 - binary_accuracy: 0.9108 - binary_crossentropy: 0.2734\n",
      "Epoch 10/10\n",
      "196/196 [==============================] - 59s 302ms/step - loss: 0.2202 - binary_accuracy: 0.9368 - binary_crossentropy: 0.2202\n",
      "196/196 [==============================] - 5s 24ms/step - loss: 1.9213 - binary_accuracy: 0.7737 - binary_crossentropy: 1.9213\n"
     ]
    }
   ],
   "source": [
    "model_embedding_keras()"
   ]
  },
  {
   "cell_type": "markdown",
   "id": "d5c6Pmktv0pG",
   "metadata": {
    "id": "d5c6Pmktv0pG"
   },
   "source": [
    "### Trying LSTM"
   ]
  },
  {
   "cell_type": "code",
   "execution_count": 78,
   "id": "kD8sEoJ-v20q",
   "metadata": {
    "colab": {
     "base_uri": "https://localhost:8080/"
    },
    "id": "kD8sEoJ-v20q",
    "outputId": "0e187d6d-80c6-45b4-86a8-8d989a406139"
   },
   "outputs": [
    {
     "name": "stdout",
     "output_type": "stream",
     "text": [
      "Epoch 1/10\n",
      "196/196 [==============================] - 153s 759ms/step - loss: 0.8056 - binary_accuracy: 0.5388 - binary_crossentropy: 0.8056\n",
      "Epoch 2/10\n",
      "196/196 [==============================] - 117s 597ms/step - loss: 0.4534 - binary_accuracy: 0.6694 - binary_crossentropy: 0.4534\n",
      "Epoch 3/10\n",
      "196/196 [==============================] - 109s 554ms/step - loss: 0.4229 - binary_accuracy: 0.7306 - binary_crossentropy: 0.4229\n",
      "Epoch 4/10\n",
      "196/196 [==============================] - 110s 563ms/step - loss: 0.3835 - binary_accuracy: 0.7704 - binary_crossentropy: 0.3835\n",
      "Epoch 5/10\n",
      "196/196 [==============================] - 106s 543ms/step - loss: 0.4268 - binary_accuracy: 0.7974 - binary_crossentropy: 0.4268\n",
      "Epoch 6/10\n",
      "196/196 [==============================] - 113s 578ms/step - loss: 0.3446 - binary_accuracy: 0.8155 - binary_crossentropy: 0.3446\n",
      "Epoch 7/10\n",
      "196/196 [==============================] - 110s 561ms/step - loss: 0.3222 - binary_accuracy: 0.8388 - binary_crossentropy: 0.3222\n",
      "Epoch 8/10\n",
      "196/196 [==============================] - 105s 534ms/step - loss: 0.3456 - binary_accuracy: 0.8654 - binary_crossentropy: 0.3456\n",
      "Epoch 9/10\n",
      "196/196 [==============================] - 109s 557ms/step - loss: 0.3428 - binary_accuracy: 0.8872 - binary_crossentropy: 0.3428\n",
      "Epoch 10/10\n",
      "196/196 [==============================] - 108s 553ms/step - loss: 0.3164 - binary_accuracy: 0.8992 - binary_crossentropy: 0.3164\n",
      "196/196 [==============================] - 10s 47ms/step - loss: 1.2411 - binary_accuracy: 0.8323 - binary_crossentropy: 1.2411\n"
     ]
    }
   ],
   "source": [
    "model_LSTM()"
   ]
  },
  {
   "cell_type": "markdown",
   "id": "DnvqXRf93r-I",
   "metadata": {
    "id": "DnvqXRf93r-I"
   },
   "source": [
    "## Analysis"
   ]
  },
  {
   "cell_type": "code",
   "execution_count": 74,
   "id": "-AEvDqDUNOsE",
   "metadata": {
    "colab": {
     "base_uri": "https://localhost:8080/",
     "height": 887
    },
    "id": "-AEvDqDUNOsE",
    "outputId": "58d56b7a-23c4-412f-e562-f488e01b8726"
   },
   "outputs": [
    {
     "data": {
      "image/png": "[encoded data removed]",
      "text/plain": [
       "<Figure size 640x480 with 1 Axes>"
      ]
     },
     "metadata": {},
     "output_type": "display_data"
    },
    {
     "data": {
      "image/png": "[encoded data removed]",
      "text/plain": [
       "<Figure size 640x480 with 1 Axes>"
      ]
     },
     "metadata": {},
     "output_type": "display_data"
    },
    {
     "data": {
      "image/png": "[encoded data removed]",
      "text/plain": [
       "<Figure size 640x480 with 1 Axes>"
      ]
     },
     "metadata": {},
     "output_type": "display_data"
    },
    {
     "data": {
      "image/png": "[encoded data removed]",
      "text/plain": [
       "<Figure size 640x480 with 1 Axes>"
      ]
     },
     "metadata": {},
     "output_type": "display_data"
    },
    {
     "data": {
      "image/png": "[encoded data removed]",
      "text/plain": [
       "<Figure size 640x480 with 1 Axes>"
      ]
     },
     "metadata": {},
     "output_type": "display_data"
    },
    {
     "data": {
      "image/png": "[encoded data removed]",
      "text/plain": [
       "<Figure size 640x480 with 1 Axes>"
      ]
     },
     "metadata": {},
     "output_type": "display_data"
    }
   ],
   "source": [
    "for key, (train_losses, train_accs, test_losses, test_accs) in training_results.items():\n",
    "  plt.plot(train_losses, label=\"Training\")\n",
    "  plt.plot(test_losses, label=\"Test\")\n",
    "  plt.title(f\"Loss of {key}\")\n",
    "  plt.legend()\n",
    "  plt.show()\n",
    "\n",
    "  plt.plot(train_accs, label=\"Training\")\n",
    "  plt.plot(test_accs, label=\"Test\")\n",
    "  plt.title(f\"Accuracy of {key}\")\n",
    "  plt.legend()\n",
    "  plt.show()"
   ]
  },
  {
   "cell_type": "markdown",
   "id": "U8XW7oTUxC8U",
   "metadata": {
    "id": "U8XW7oTUxC8U"
   },
   "source": [
    "- padding & bucketing weren't working really well\n",
    "  - probably did somethign wrong\n",
    "- at it was very slow\n",
    "- with keras layers super simple\n",
    "  - not so much fiddling around\n",
    "- but: Reference model is the fastest and quite good"
   ]
  }
 ],
 "metadata": {
  "accelerator": "GPU",
  "colab": {
   "collapsed_sections": [
    "12c48c39",
    "TQuU21CTCPJv",
    "lCsTGtkE_HEC",
    "lVEtw189GatS",
    "kprKdbZnVl07",
    "U14YAI1ha45v",
    "cwSuZB2ZoWPY",
    "CVCiPNt1NiR9",
    "WRT3txEbNl-r",
    "xk39CsRMIrq4",
    "mF-yw-LscRrV",
    "oV8pQIAcoPSo"
   ],
   "gpuType": "T4",
   "provenance": []
  },
  "kernelspec": {
   "display_name": "Python 3 (ipykernel)",
   "language": "python",
   "name": "python3"
  },
  "language_info": {
   "codemirror_mode": {
    "name": "ipython",
    "version": 3
   },
   "file_extension": ".py",
   "mimetype": "text/x-python",
   "name": "python",
   "nbconvert_exporter": "python",
   "pygments_lexer": "ipython3",
   "version": "3.10.12"
  }
 },
 "nbformat": 4,
 "nbformat_minor": 5
}
